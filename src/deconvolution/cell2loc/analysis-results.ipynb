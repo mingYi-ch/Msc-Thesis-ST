{
 "cells": [
  {
   "cell_type": "code",
   "execution_count": 3,
   "id": "7782c456-a648-4645-aa06-7c56b6b19990",
   "metadata": {
    "execution": {
     "iopub.execute_input": "2024-06-21T02:50:17.289343Z",
     "iopub.status.busy": "2024-06-21T02:50:17.289111Z",
     "iopub.status.idle": "2024-06-21T02:50:30.036575Z",
     "shell.execute_reply": "2024-06-21T02:50:30.035945Z",
     "shell.execute_reply.started": "2024-06-21T02:50:17.289324Z"
    }
   },
   "outputs": [],
   "source": [
    "import scanpy as sc\n",
    "import os"
   ]
  },
  {
   "cell_type": "code",
   "execution_count": 6,
   "id": "ecd5b812-6b52-40b8-807a-afb95ce4e908",
   "metadata": {
    "execution": {
     "iopub.execute_input": "2024-06-21T02:51:27.070638Z",
     "iopub.status.busy": "2024-06-21T02:51:27.070182Z",
     "iopub.status.idle": "2024-06-21T02:51:27.164696Z",
     "shell.execute_reply": "2024-06-21T02:51:27.164302Z",
     "shell.execute_reply.started": "2024-06-21T02:51:27.070622Z"
    }
   },
   "outputs": [
    {
     "name": "stdout",
     "output_type": "stream",
     "text": [
      "Index(['sample', '_indices', '_scvi_batch', '_scvi_labels'], dtype='object')\n"
     ]
    }
   ],
   "source": [
    "adata_file = \"/home/myi/data/mt-spatial-transcriptomics/src/deconvolution/cell2loc/cell2loc/sp.h5ad\"\n",
    "parent_path = \"/home/myi/data/mt-spatial-transcriptomics/results/deconvolution/cell2loc\"\n",
    "adata_vis = sc.read_h5ad(adata_file)\n",
    "print(adata_vis.obs.keys())"
   ]
  },
  {
   "cell_type": "code",
   "execution_count": 8,
   "id": "0e371556-6746-4ce5-9129-8147b2ff1568",
   "metadata": {
    "execution": {
     "iopub.execute_input": "2024-06-21T02:51:49.090129Z",
     "iopub.status.busy": "2024-06-21T02:51:49.089870Z",
     "iopub.status.idle": "2024-06-21T02:51:49.094571Z",
     "shell.execute_reply": "2024-06-21T02:51:49.094177Z",
     "shell.execute_reply.started": "2024-06-21T02:51:49.090114Z"
    }
   },
   "outputs": [
    {
     "data": {
      "text/plain": [
       "0          0\n",
       "1          1\n",
       "2          2\n",
       "3          3\n",
       "4          4\n",
       "        ... \n",
       "2483    2483\n",
       "2484    2484\n",
       "2485    2485\n",
       "2486    2486\n",
       "2487    2487\n",
       "Name: _indices, Length: 2488, dtype: int64"
      ]
     },
     "execution_count": 8,
     "metadata": {},
     "output_type": "execute_result"
    }
   ],
   "source": [
    "adata_vis.obs.keys()\n",
    "adata_vis.obs['_indices']"
   ]
  },
  {
   "cell_type": "code",
   "execution_count": 12,
   "id": "30dcb285-6217-438e-b3e7-a8210d2ee96e",
   "metadata": {
    "execution": {
     "iopub.execute_input": "2024-06-11T08:36:17.641724Z",
     "iopub.status.busy": "2024-06-11T08:36:17.641477Z",
     "iopub.status.idle": "2024-06-11T08:36:17.655332Z",
     "shell.execute_reply": "2024-06-11T08:36:17.654532Z",
     "shell.execute_reply.started": "2024-06-11T08:36:17.641703Z"
    }
   },
   "outputs": [],
   "source": [
    "# add 5% quantile, representing confident cell abundance, 'at least this amount is present',\n",
    "# to adata.obs with nice names for plotting\n",
    "adata_vis.obs[adata_vis.uns['mod']['factor_names']] = adata_vis.obsm['q05_cell_abundance_w_sf']\n",
    "result1 = adata_vis.obsm['q05_cell_abundance_w_sf']\n",
    "result2 = adata_vis.obsm['q95_cell_abundance_w_sf']\n",
    "result3 = adata_vis.obsm['means_cell_abundance_w_sf']\n",
    "# result_mean = result3.to_csv('mean_gene_expressionhalfx.csv')\n",
    "# result2.to_csv('95_gene_expressionhalfx.csv')\n",
    "# result1.to_csv('05_gene_expressionhalfx.csv')"
   ]
  },
  {
   "cell_type": "code",
   "execution_count": 13,
   "id": "50a7e25a-0fd5-4346-8df8-5acaf7854ed8",
   "metadata": {
    "execution": {
     "iopub.execute_input": "2024-06-11T08:36:17.656433Z",
     "iopub.status.busy": "2024-06-11T08:36:17.656202Z",
     "iopub.status.idle": "2024-06-11T08:36:17.666101Z",
     "shell.execute_reply": "2024-06-11T08:36:17.665294Z",
     "shell.execute_reply.started": "2024-06-11T08:36:17.656410Z"
    }
   },
   "outputs": [
    {
     "name": "stdout",
     "output_type": "stream",
     "text": [
      "['B Cells', 'Endothelial Cells', 'Meyloid', 'Plasma Cells', 'Smooth Muscle Cells', 'SynFib', 'TCells']\n"
     ]
    }
   ],
   "source": [
    "colnames = result3.columns.to_list()\n",
    "colnames_short = [x[x.rfind(\"_\") + 1:] for x in colnames]\n",
    "print(colnames_short)\n",
    "result3.columns = colnames_short"
   ]
  },
  {
   "cell_type": "code",
   "execution_count": 14,
   "id": "59f67925-d6fe-42a3-930a-13e24dbd39b1",
   "metadata": {
    "execution": {
     "iopub.execute_input": "2024-06-11T08:36:17.667612Z",
     "iopub.status.busy": "2024-06-11T08:36:17.667371Z",
     "iopub.status.idle": "2024-06-11T08:36:17.712069Z",
     "shell.execute_reply": "2024-06-11T08:36:17.711221Z",
     "shell.execute_reply.started": "2024-06-11T08:36:17.667591Z"
    }
   },
   "outputs": [
    {
     "name": "stdout",
     "output_type": "stream",
     "text": [
      "(2488, 7)\n"
     ]
    }
   ],
   "source": [
    "sum_result_3 = result3.sum(axis=1)\n",
    "result3_percent = result3.div(result3.assign(total=sum_result_3)['total'], axis='index')\n",
    "print(result3_percent.shape)\n",
    "result_name = os.path.join(parent_path, \"deconProp.csv\")\n",
    "result3_percent.to_csv(result_name)"
   ]
  },
  {
   "cell_type": "code",
   "execution_count": 15,
   "id": "f86f9920-c952-4b27-80a0-056c21ba1045",
   "metadata": {
    "execution": {
     "iopub.execute_input": "2024-06-11T08:36:17.713235Z",
     "iopub.status.busy": "2024-06-11T08:36:17.713003Z",
     "iopub.status.idle": "2024-06-11T08:36:17.759655Z",
     "shell.execute_reply": "2024-06-11T08:36:17.758735Z",
     "shell.execute_reply.started": "2024-06-11T08:36:17.713214Z"
    }
   },
   "outputs": [],
   "source": [
    "result2.columns = colnames_short\n",
    "sum_result_2 = result2.sum(axis=1)\n",
    "result2_percent = result2.div(result2.assign(total=sum_result_2)['total'], axis='index')\n",
    "result2_percent.to_csv('q95_gene_expression_test_SeqFISH_10000.csv')"
   ]
  },
  {
   "cell_type": "code",
   "execution_count": 16,
   "id": "048fa108-994e-42fd-9bb3-e6b1e1fe49ac",
   "metadata": {
    "execution": {
     "iopub.execute_input": "2024-06-11T08:36:17.760982Z",
     "iopub.status.busy": "2024-06-11T08:36:17.760728Z",
     "iopub.status.idle": "2024-06-11T08:36:17.808862Z",
     "shell.execute_reply": "2024-06-11T08:36:17.808036Z",
     "shell.execute_reply.started": "2024-06-11T08:36:17.760958Z"
    }
   },
   "outputs": [],
   "source": [
    "result1.columns = colnames_short\n",
    "sum_result_1 = result1.sum(axis=1)\n",
    "result1_percent = result1.div(result1.assign(total=sum_result_1)['total'], axis='index')\n",
    "result_name = os.path.join(parent_path, \"q05_deconProp.csv\")\n",
    "\n",
    "result1_percent.to_csv(result_name)\n",
    "\n"
   ]
  }
 ],
 "metadata": {
  "kernelspec": {
   "display_name": "Python 3 (ipykernel)",
   "language": "python",
   "name": "python3"
  },
  "language_info": {
   "codemirror_mode": {
    "name": "ipython",
    "version": 3
   },
   "file_extension": ".py",
   "mimetype": "text/x-python",
   "name": "python",
   "nbconvert_exporter": "python",
   "pygments_lexer": "ipython3",
   "version": "3.11.5"
  }
 },
 "nbformat": 4,
 "nbformat_minor": 5
}
