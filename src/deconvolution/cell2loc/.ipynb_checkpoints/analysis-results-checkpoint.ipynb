{
 "cells": [
  {
   "cell_type": "code",
   "execution_count": 2,
   "id": "7782c456-a648-4645-aa06-7c56b6b19990",
   "metadata": {
    "execution": {
     "iopub.execute_input": "2024-06-11T03:44:18.808402Z",
     "iopub.status.busy": "2024-06-11T03:44:18.808157Z",
     "iopub.status.idle": "2024-06-11T03:44:18.810475Z",
     "shell.execute_reply": "2024-06-11T03:44:18.809990Z",
     "shell.execute_reply.started": "2024-06-11T03:44:18.808389Z"
    }
   },
   "outputs": [],
   "source": [
    "import scanpy as sc\n",
    "import os"
   ]
  },
  {
   "cell_type": "code",
   "execution_count": 3,
   "id": "ecd5b812-6b52-40b8-807a-afb95ce4e908",
   "metadata": {
    "execution": {
     "iopub.execute_input": "2024-06-11T03:44:18.811780Z",
     "iopub.status.busy": "2024-06-11T03:44:18.811578Z",
     "iopub.status.idle": "2024-06-11T03:44:18.980676Z",
     "shell.execute_reply": "2024-06-11T03:44:18.980277Z",
     "shell.execute_reply.started": "2024-06-11T03:44:18.811766Z"
    }
   },
   "outputs": [
    {
     "name": "stdout",
     "output_type": "stream",
     "text": [
      "dict_keys(['_scvi_manager_uuid', '_scvi_uuid', 'mod'])\n"
     ]
    }
   ],
   "source": [
    "adata_file = \"/home/myi/mt-spatial-transcriptomics/src/deconvolution/cell2loc/cell2loc/sp.h5ad\"\n",
    "parent_path = \"/home/myi/mt-spatial-transcriptomics/results/deconvolution/cell2loc\"\n",
    "adata_vis = sc.read_h5ad(adata_file)\n",
    "print(adata_vis.uns.keys())"
   ]
  },
  {
   "cell_type": "code",
   "execution_count": 4,
   "id": "0e371556-6746-4ce5-9129-8147b2ff1568",
   "metadata": {
    "execution": {
     "iopub.execute_input": "2024-06-11T03:44:18.981609Z",
     "iopub.status.busy": "2024-06-11T03:44:18.981216Z",
     "iopub.status.idle": "2024-06-11T03:44:18.984697Z",
     "shell.execute_reply": "2024-06-11T03:44:18.984193Z",
     "shell.execute_reply.started": "2024-06-11T03:44:18.981594Z"
    }
   },
   "outputs": [
    {
     "data": {
      "text/plain": [
       "<2488x7095 sparse matrix of type '<class 'numpy.float32'>'\n",
       "\twith 2775388 stored elements in Compressed Sparse Column format>"
      ]
     },
     "execution_count": 4,
     "metadata": {},
     "output_type": "execute_result"
    }
   ],
   "source": [
    "adata_vis.X"
   ]
  },
  {
   "cell_type": "code",
   "execution_count": 5,
   "id": "30dcb285-6217-438e-b3e7-a8210d2ee96e",
   "metadata": {
    "execution": {
     "iopub.execute_input": "2024-06-11T03:44:18.985625Z",
     "iopub.status.busy": "2024-06-11T03:44:18.985263Z",
     "iopub.status.idle": "2024-06-11T03:44:18.995543Z",
     "shell.execute_reply": "2024-06-11T03:44:18.995087Z",
     "shell.execute_reply.started": "2024-06-11T03:44:18.985611Z"
    }
   },
   "outputs": [],
   "source": [
    "# add 5% quantile, representing confident cell abundance, 'at least this amount is present',\n",
    "# to adata.obs with nice names for plotting\n",
    "adata_vis.obs[adata_vis.uns['mod']['factor_names']] = adata_vis.obsm['q05_cell_abundance_w_sf']\n",
    "result1 = adata_vis.obsm['q05_cell_abundance_w_sf']\n",
    "result2 = adata_vis.obsm['q95_cell_abundance_w_sf']\n",
    "result3 = adata_vis.obsm['means_cell_abundance_w_sf']\n",
    "# result_mean = result3.to_csv('mean_gene_expressionhalfx.csv')\n",
    "# result2.to_csv('95_gene_expressionhalfx.csv')\n",
    "# result1.to_csv('05_gene_expressionhalfx.csv')"
   ]
  },
  {
   "cell_type": "code",
   "execution_count": 6,
   "id": "50a7e25a-0fd5-4346-8df8-5acaf7854ed8",
   "metadata": {
    "execution": {
     "iopub.execute_input": "2024-06-11T03:44:18.996346Z",
     "iopub.status.busy": "2024-06-11T03:44:18.995986Z",
     "iopub.status.idle": "2024-06-11T03:44:19.001384Z",
     "shell.execute_reply": "2024-06-11T03:44:19.000903Z",
     "shell.execute_reply.started": "2024-06-11T03:44:18.996331Z"
    }
   },
   "outputs": [
    {
     "name": "stdout",
     "output_type": "stream",
     "text": [
      "['B Cells', 'Endothelial Cells', 'Meyloid', 'Plasma Cells', 'Smooth Muscle Cells', 'SynFib', 'TCells']\n"
     ]
    }
   ],
   "source": [
    "colnames = result3.columns.to_list()\n",
    "colnames_short = [x[x.rfind(\"_\") + 1:] for x in colnames]\n",
    "print(colnames_short)\n",
    "result3.columns = colnames_short"
   ]
  },
  {
   "cell_type": "code",
   "execution_count": 7,
   "id": "59f67925-d6fe-42a3-930a-13e24dbd39b1",
   "metadata": {
    "execution": {
     "iopub.execute_input": "2024-06-11T03:44:19.002113Z",
     "iopub.status.busy": "2024-06-11T03:44:19.001906Z",
     "iopub.status.idle": "2024-06-11T03:44:19.047193Z",
     "shell.execute_reply": "2024-06-11T03:44:19.046827Z",
     "shell.execute_reply.started": "2024-06-11T03:44:19.002100Z"
    }
   },
   "outputs": [
    {
     "name": "stdout",
     "output_type": "stream",
     "text": [
      "(2488, 7)\n"
     ]
    }
   ],
   "source": [
    "sum_result_3 = result3.sum(axis=1)\n",
    "result3_percent = result3.div(result3.assign(total=sum_result_3)['total'], axis='index')\n",
    "print(result3_percent.shape)\n",
    "result_name = os.path.join(parent_path, \"deconProp.csv\")\n",
    "result3_percent.to_csv(result_name)"
   ]
  },
  {
   "cell_type": "code",
   "execution_count": 10,
   "id": "f86f9920-c952-4b27-80a0-056c21ba1045",
   "metadata": {
    "execution": {
     "iopub.execute_input": "2024-06-11T05:05:02.607125Z",
     "iopub.status.busy": "2024-06-11T05:05:02.606358Z",
     "iopub.status.idle": "2024-06-11T05:05:02.644767Z",
     "shell.execute_reply": "2024-06-11T05:05:02.644218Z",
     "shell.execute_reply.started": "2024-06-11T05:05:02.607098Z"
    }
   },
   "outputs": [],
   "source": [
    "result2.columns = colnames_short\n",
    "sum_result_2 = result2.sum(axis=1)\n",
    "result2_percent = result2.div(result2.assign(total=sum_result_2)['total'], axis='index')\n",
    "result2_percent.to_csv('q95_gene_expression_test_SeqFISH_10000.csv')"
   ]
  },
  {
   "cell_type": "code",
   "execution_count": 9,
   "id": "048fa108-994e-42fd-9bb3-e6b1e1fe49ac",
   "metadata": {
    "execution": {
     "iopub.execute_input": "2024-06-11T03:44:19.077673Z",
     "iopub.status.busy": "2024-06-11T03:44:19.077410Z",
     "iopub.status.idle": "2024-06-11T03:44:19.105678Z",
     "shell.execute_reply": "2024-06-11T03:44:19.105310Z",
     "shell.execute_reply.started": "2024-06-11T03:44:19.077660Z"
    }
   },
   "outputs": [],
   "source": [
    "result2.columns = colnames_short\n",
    "sum_result_1 = result1.sum(axis=1)\n",
    "result1_percent = result1.div(result1.assign(total=sum_result_1)['total'], axis='index')\n",
    "result_name = os.path.join(parent_path, \"q05_deconProp.csv\")\n",
    "\n",
    "result1_percent.to_csv('q05_gene_expression_test_SeqFISH_10000.csv')\n",
    "\n"
   ]
  }
 ],
 "metadata": {
  "kernelspec": {
   "display_name": "Python 3 (ipykernel)",
   "language": "python",
   "name": "python3"
  },
  "language_info": {
   "codemirror_mode": {
    "name": "ipython",
    "version": 3
   },
   "file_extension": ".py",
   "mimetype": "text/x-python",
   "name": "python",
   "nbconvert_exporter": "python",
   "pygments_lexer": "ipython3",
   "version": "3.11.5"
  }
 },
 "nbformat": 4,
 "nbformat_minor": 5
}
