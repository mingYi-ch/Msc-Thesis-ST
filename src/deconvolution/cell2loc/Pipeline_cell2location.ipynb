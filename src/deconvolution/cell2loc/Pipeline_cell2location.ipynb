{
 "cells": [
  {
   "cell_type": "code",
   "execution_count": 1,
   "id": "e7e09f5f",
   "metadata": {
    "execution": {
     "iopub.execute_input": "2024-06-01T07:21:07.378113Z",
     "iopub.status.busy": "2024-06-01T07:21:07.377862Z",
     "iopub.status.idle": "2024-06-01T07:21:30.007624Z",
     "shell.execute_reply": "2024-06-01T07:21:30.007281Z",
     "shell.execute_reply.started": "2024-06-01T07:21:07.378099Z"
    }
   },
   "outputs": [
    {
     "data": {
      "text/plain": [
       "0"
      ]
     },
     "execution_count": 1,
     "metadata": {},
     "output_type": "execute_result"
    }
   ],
   "source": [
    "import sys\n",
    "import scanpy as sc\n",
    "import anndata\n",
    "import pandas as pd\n",
    "import numpy as np\n",
    "import matplotlib.pyplot as plt\n",
    "import matplotlib as mpl\n",
    "# import cell2location\n",
    "import scvi\n",
    "import os\n",
    "from matplotlib import rcParams\n",
    "rcParams['pdf.fonttype'] = 42\n",
    "import seaborn as sns\n",
    "import time\n",
    "import gc\n",
    "gc.collect()\n"
   ]
  },
  {
   "cell_type": "code",
   "execution_count": 2,
   "id": "6b5c20fe-097a-4108-bfca-2cb805387397",
   "metadata": {
    "execution": {
     "iopub.execute_input": "2024-06-01T07:21:30.013283Z",
     "iopub.status.busy": "2024-06-01T07:21:30.013164Z",
     "iopub.status.idle": "2024-06-01T07:21:30.015081Z",
     "shell.execute_reply": "2024-06-01T07:21:30.014811Z",
     "shell.execute_reply.started": "2024-06-01T07:21:30.013271Z"
    }
   },
   "outputs": [],
   "source": [
    "\n",
    "cellcount = \"/home/myi/data/scRNA-seq/sc_counts_SHK166_RA_Knee.mtx\"\n",
    "sp_data = \"/home/myi/data/spatial-trancriptomics/st_counts_SHK166_RA_Knee.mtx\"\n",
    "celltype = \"/home/myi/data/scRNA-seq/ctypes_counts_SHK166_RA_Knee.csv\""
   ]
  },
  {
   "cell_type": "code",
   "execution_count": 3,
   "id": "b91f746f",
   "metadata": {
    "execution": {
     "iopub.execute_input": "2024-06-01T07:21:30.015924Z",
     "iopub.status.busy": "2024-06-01T07:21:30.015661Z",
     "iopub.status.idle": "2024-06-01T07:21:59.108172Z",
     "shell.execute_reply": "2024-06-01T07:21:59.107558Z",
     "shell.execute_reply.started": "2024-06-01T07:21:30.015910Z"
    }
   },
   "outputs": [
    {
     "ename": "AttributeError",
     "evalue": "'function' object has no attribute 'obs'",
     "output_type": "error",
     "traceback": [
      "\u001b[0;31m---------------------------------------------------------------------------\u001b[0m",
      "\u001b[0;31mAttributeError\u001b[0m                            Traceback (most recent call last)",
      "Cell \u001b[0;32mIn[3], line 4\u001b[0m\n\u001b[1;32m      2\u001b[0m adata_ref \u001b[38;5;241m=\u001b[39m sc\u001b[38;5;241m.\u001b[39mread_mtx(cellcount)\u001b[38;5;241m.\u001b[39mtranspose \u001b[38;5;66;03m# cells by genes\u001b[39;00m\n\u001b[1;32m      3\u001b[0m df_celltype \u001b[38;5;241m=\u001b[39m pd\u001b[38;5;241m.\u001b[39mread_csv(celltype, header\u001b[38;5;241m=\u001b[39m\u001b[38;5;241m0\u001b[39m, index_col\u001b[38;5;241m=\u001b[39m\u001b[38;5;241m0\u001b[39m)\n\u001b[0;32m----> 4\u001b[0m df_celltype\u001b[38;5;241m.\u001b[39mindex \u001b[38;5;241m=\u001b[39m \u001b[43madata_ref\u001b[49m\u001b[38;5;241;43m.\u001b[39;49m\u001b[43mobs\u001b[49m\u001b[38;5;241m.\u001b[39mindex\n\u001b[1;32m      5\u001b[0m adata_ref\u001b[38;5;241m.\u001b[39mobs[\u001b[38;5;124m'\u001b[39m\u001b[38;5;124mSubset\u001b[39m\u001b[38;5;124m'\u001b[39m] \u001b[38;5;241m=\u001b[39m df_celltype\n\u001b[1;32m      7\u001b[0m df_celltype\u001b[38;5;241m.\u001b[39mhead()\n",
      "\u001b[0;31mAttributeError\u001b[0m: 'function' object has no attribute 'obs'"
     ]
    }
   ],
   "source": [
    "start_time = time.time()\n",
    "adata_ref = sc.read_mtx(cellcount).transpose # cells by genes\n",
    "df_celltype = pd.read_csv(celltype, header=0, index_col=0)\n",
    "df_celltype.index = adata_ref.obs.index\n",
    "adata_ref.obs['Subset'] = df_celltype\n",
    "\n",
    "df_celltype.head()\n",
    "# Get 'Method'\n",
    "adata_ref.obs['Method'] = '3GEX'\n",
    "\n",
    "# Get 'Sample'\n",
    "adata_ref.obs['Sample'] = adata_ref.obs_names\n",
    "adata_ref.obs['Sample'] = adata_ref.obs['Sample'].apply(lambda x: x[0:4])"
   ]
  },
  {
   "cell_type": "code",
   "execution_count": 5,
   "id": "f0a1359b",
   "metadata": {},
   "outputs": [
    {
     "data": {
      "image/png": "[encoded data removed]",
      "text/plain": [
       "<Figure size 432x288 with 1 Axes>"
      ]
     },
     "metadata": {
      "needs_background": "light"
     },
     "output_type": "display_data"
    }
   ],
   "source": [
    "from cell2location.utils.filtering import filter_genes\n",
    "selected = filter_genes(adata_ref, cell_count_cutoff=5, cell_percentage_cutoff2=0.03, nonz_mean_cutoff=1.12)\n",
    "# 5, 0.03, 1.12\n",
    "\n",
    "# In our case, a few genes are cut\n",
    "adata_ref = adata_ref[:, selected].copy()"
   ]
  },
  {
   "cell_type": "code",
   "execution_count": 6,
   "id": "eafa7621",
   "metadata": {},
   "outputs": [
    {
     "name": "stdout",
     "output_type": "stream",
     "text": [
      "\u001b[34mINFO    \u001b[0m Using batches from adata.obs\u001b[1m[\u001b[0m\u001b[32m\"Sample\"\u001b[0m\u001b[1m]\u001b[0m                                              \n",
      "\u001b[34mINFO    \u001b[0m Using labels from adata.obs\u001b[1m[\u001b[0m\u001b[32m\"Subset\"\u001b[0m\u001b[1m]\u001b[0m                                               \n",
      "\u001b[34mINFO    \u001b[0m Using data from adata.X                                                             \n",
      "\u001b[34mINFO    \u001b[0m Computing library size prior per batch                                              \n",
      "\u001b[34mINFO    \u001b[0m Successfully registered anndata object containing \u001b[1;36m1691\u001b[0m cells, \u001b[1;36m8378\u001b[0m vars, \u001b[1;36m1\u001b[0m batches, \n",
      "         \u001b[1;36m6\u001b[0m labels, and \u001b[1;36m0\u001b[0m proteins. Also registered \u001b[1;36m1\u001b[0m extra categorical covariates and \u001b[1;36m0\u001b[0m extra\n",
      "         continuous covariates.                                                              \n",
      "\u001b[34mINFO    \u001b[0m Please do not further modify adata until model is trained.                          \n"
     ]
    },
    {
     "data": {
      "text/html": [
       "<pre style=\"white-space:pre;overflow-x:auto;line-height:normal;font-family:Menlo,'DejaVu Sans Mono',consolas,'Courier New',monospace\">Anndata setup with scvi-tools version <span style=\"color: #008080; text-decoration-color: #008080; font-weight: bold\">0.13</span>.<span style=\"color: #008080; text-decoration-color: #008080; font-weight: bold\">0</span>.\n",
       "</pre>\n"
      ],
      "text/plain": [
       "Anndata setup with scvi-tools version \u001b[1;36m0.13\u001b[0m.\u001b[1;36m0\u001b[0m.\n"
      ]
     },
     "metadata": {},
     "output_type": "display_data"
    },
    {
     "data": {
      "text/html": [
       "<pre style=\"white-space:pre;overflow-x:auto;line-height:normal;font-family:Menlo,'DejaVu Sans Mono',consolas,'Courier New',monospace\"><span style=\"font-style: italic\">              Data Summary              </span>\n",
       "┏━━━━━━━━━━━━━━━━━━━━━━━━━━━━━━┳━━━━━━━┓\n",
       "┃<span style=\"font-weight: bold\">             Data             </span>┃<span style=\"font-weight: bold\"> Count </span>┃\n",
       "┡━━━━━━━━━━━━━━━━━━━━━━━━━━━━━━╇━━━━━━━┩\n",
       "│<span style=\"color: #0087ff; text-decoration-color: #0087ff\">            Cells             </span>│<span style=\"color: #af00d7; text-decoration-color: #af00d7\"> 1691  </span>│\n",
       "│<span style=\"color: #0087ff; text-decoration-color: #0087ff\">             Vars             </span>│<span style=\"color: #af00d7; text-decoration-color: #af00d7\"> 8378  </span>│\n",
       "│<span style=\"color: #0087ff; text-decoration-color: #0087ff\">            Labels            </span>│<span style=\"color: #af00d7; text-decoration-color: #af00d7\">   6   </span>│\n",
       "│<span style=\"color: #0087ff; text-decoration-color: #0087ff\">           Batches            </span>│<span style=\"color: #af00d7; text-decoration-color: #af00d7\">   1   </span>│\n",
       "│<span style=\"color: #0087ff; text-decoration-color: #0087ff\">           Proteins           </span>│<span style=\"color: #af00d7; text-decoration-color: #af00d7\">   0   </span>│\n",
       "│<span style=\"color: #0087ff; text-decoration-color: #0087ff\"> Extra Categorical Covariates </span>│<span style=\"color: #af00d7; text-decoration-color: #af00d7\">   1   </span>│\n",
       "│<span style=\"color: #0087ff; text-decoration-color: #0087ff\"> Extra Continuous Covariates  </span>│<span style=\"color: #af00d7; text-decoration-color: #af00d7\">   0   </span>│\n",
       "└──────────────────────────────┴───────┘\n",
       "</pre>\n"
      ],
      "text/plain": [
       "\u001b[3m              Data Summary              \u001b[0m\n",
       "┏━━━━━━━━━━━━━━━━━━━━━━━━━━━━━━┳━━━━━━━┓\n",
       "┃\u001b[1m \u001b[0m\u001b[1m            Data            \u001b[0m\u001b[1m \u001b[0m┃\u001b[1m \u001b[0m\u001b[1mCount\u001b[0m\u001b[1m \u001b[0m┃\n",
       "┡━━━━━━━━━━━━━━━━━━━━━━━━━━━━━━╇━━━━━━━┩\n",
       "│\u001b[38;5;33m \u001b[0m\u001b[38;5;33m           Cells            \u001b[0m\u001b[38;5;33m \u001b[0m│\u001b[38;5;128m \u001b[0m\u001b[38;5;128m1691 \u001b[0m\u001b[38;5;128m \u001b[0m│\n",
       "│\u001b[38;5;33m \u001b[0m\u001b[38;5;33m            Vars            \u001b[0m\u001b[38;5;33m \u001b[0m│\u001b[38;5;128m \u001b[0m\u001b[38;5;128m8378 \u001b[0m\u001b[38;5;128m \u001b[0m│\n",
       "│\u001b[38;5;33m \u001b[0m\u001b[38;5;33m           Labels           \u001b[0m\u001b[38;5;33m \u001b[0m│\u001b[38;5;128m \u001b[0m\u001b[38;5;128m  6  \u001b[0m\u001b[38;5;128m \u001b[0m│\n",
       "│\u001b[38;5;33m \u001b[0m\u001b[38;5;33m          Batches           \u001b[0m\u001b[38;5;33m \u001b[0m│\u001b[38;5;128m \u001b[0m\u001b[38;5;128m  1  \u001b[0m\u001b[38;5;128m \u001b[0m│\n",
       "│\u001b[38;5;33m \u001b[0m\u001b[38;5;33m          Proteins          \u001b[0m\u001b[38;5;33m \u001b[0m│\u001b[38;5;128m \u001b[0m\u001b[38;5;128m  0  \u001b[0m\u001b[38;5;128m \u001b[0m│\n",
       "│\u001b[38;5;33m \u001b[0m\u001b[38;5;33mExtra Categorical Covariates\u001b[0m\u001b[38;5;33m \u001b[0m│\u001b[38;5;128m \u001b[0m\u001b[38;5;128m  1  \u001b[0m\u001b[38;5;128m \u001b[0m│\n",
       "│\u001b[38;5;33m \u001b[0m\u001b[38;5;33mExtra Continuous Covariates \u001b[0m\u001b[38;5;33m \u001b[0m│\u001b[38;5;128m \u001b[0m\u001b[38;5;128m  0  \u001b[0m\u001b[38;5;128m \u001b[0m│\n",
       "└──────────────────────────────┴───────┘\n"
      ]
     },
     "metadata": {},
     "output_type": "display_data"
    },
    {
     "data": {
      "text/html": [
       "<pre style=\"white-space:pre;overflow-x:auto;line-height:normal;font-family:Menlo,'DejaVu Sans Mono',consolas,'Courier New',monospace\"><span style=\"font-style: italic\">                    SCVI Data Registry                    </span>\n",
       "┏━━━━━━━━━━━━━━━┳━━━━━━━━━━━━━━━━━━━━━━━━━━━━━━━━━━━━━━━━┓\n",
       "┃<span style=\"font-weight: bold\">     Data      </span>┃<span style=\"font-weight: bold\">          scvi-tools Location           </span>┃\n",
       "┡━━━━━━━━━━━━━━━╇━━━━━━━━━━━━━━━━━━━━━━━━━━━━━━━━━━━━━━━━┩\n",
       "│<span style=\"color: #0087ff; text-decoration-color: #0087ff\">       X       </span>│<span style=\"color: #af00d7; text-decoration-color: #af00d7\">                adata.X                 </span>│\n",
       "│<span style=\"color: #0087ff; text-decoration-color: #0087ff\"> batch_indices </span>│<span style=\"color: #af00d7; text-decoration-color: #af00d7\">        adata.obs['_scvi_batch']        </span>│\n",
       "│<span style=\"color: #0087ff; text-decoration-color: #0087ff\"> local_l_mean  </span>│<span style=\"color: #af00d7; text-decoration-color: #af00d7\">    adata.obs['_scvi_local_l_mean']     </span>│\n",
       "│<span style=\"color: #0087ff; text-decoration-color: #0087ff\">  local_l_var  </span>│<span style=\"color: #af00d7; text-decoration-color: #af00d7\">     adata.obs['_scvi_local_l_var']     </span>│\n",
       "│<span style=\"color: #0087ff; text-decoration-color: #0087ff\">    labels     </span>│<span style=\"color: #af00d7; text-decoration-color: #af00d7\">       adata.obs['_scvi_labels']        </span>│\n",
       "│<span style=\"color: #0087ff; text-decoration-color: #0087ff\">   cat_covs    </span>│<span style=\"color: #af00d7; text-decoration-color: #af00d7\"> adata.obsm['_scvi_extra_categoricals'] </span>│\n",
       "└───────────────┴────────────────────────────────────────┘\n",
       "</pre>\n"
      ],
      "text/plain": [
       "\u001b[3m                    SCVI Data Registry                    \u001b[0m\n",
       "┏━━━━━━━━━━━━━━━┳━━━━━━━━━━━━━━━━━━━━━━━━━━━━━━━━━━━━━━━━┓\n",
       "┃\u001b[1m \u001b[0m\u001b[1m    Data     \u001b[0m\u001b[1m \u001b[0m┃\u001b[1m \u001b[0m\u001b[1m         scvi-tools Location          \u001b[0m\u001b[1m \u001b[0m┃\n",
       "┡━━━━━━━━━━━━━━━╇━━━━━━━━━━━━━━━━━━━━━━━━━━━━━━━━━━━━━━━━┩\n",
       "│\u001b[38;5;33m \u001b[0m\u001b[38;5;33m      X      \u001b[0m\u001b[38;5;33m \u001b[0m│\u001b[38;5;128m \u001b[0m\u001b[38;5;128m               adata.X                \u001b[0m\u001b[38;5;128m \u001b[0m│\n",
       "│\u001b[38;5;33m \u001b[0m\u001b[38;5;33mbatch_indices\u001b[0m\u001b[38;5;33m \u001b[0m│\u001b[38;5;128m \u001b[0m\u001b[38;5;128m       adata.obs['_scvi_batch']       \u001b[0m\u001b[38;5;128m \u001b[0m│\n",
       "│\u001b[38;5;33m \u001b[0m\u001b[38;5;33mlocal_l_mean \u001b[0m\u001b[38;5;33m \u001b[0m│\u001b[38;5;128m \u001b[0m\u001b[38;5;128m   adata.obs['_scvi_local_l_mean']    \u001b[0m\u001b[38;5;128m \u001b[0m│\n",
       "│\u001b[38;5;33m \u001b[0m\u001b[38;5;33m local_l_var \u001b[0m\u001b[38;5;33m \u001b[0m│\u001b[38;5;128m \u001b[0m\u001b[38;5;128m    adata.obs['_scvi_local_l_var']    \u001b[0m\u001b[38;5;128m \u001b[0m│\n",
       "│\u001b[38;5;33m \u001b[0m\u001b[38;5;33m   labels    \u001b[0m\u001b[38;5;33m \u001b[0m│\u001b[38;5;128m \u001b[0m\u001b[38;5;128m      adata.obs['_scvi_labels']       \u001b[0m\u001b[38;5;128m \u001b[0m│\n",
       "│\u001b[38;5;33m \u001b[0m\u001b[38;5;33m  cat_covs   \u001b[0m\u001b[38;5;33m \u001b[0m│\u001b[38;5;128m \u001b[0m\u001b[38;5;128madata.obsm['_scvi_extra_categoricals']\u001b[0m\u001b[38;5;128m \u001b[0m│\n",
       "└───────────────┴────────────────────────────────────────┘\n"
      ]
     },
     "metadata": {},
     "output_type": "display_data"
    },
    {
     "data": {
      "text/html": [
       "<pre style=\"white-space:pre;overflow-x:auto;line-height:normal;font-family:Menlo,'DejaVu Sans Mono',consolas,'Courier New',monospace\"><span style=\"font-style: italic\">                     Label Categories                     </span>\n",
       "┏━━━━━━━━━━━━━━━━━━━━━┳━━━━━━━━━━━━┳━━━━━━━━━━━━━━━━━━━━━┓\n",
       "┃<span style=\"font-weight: bold\">   Source Location   </span>┃<span style=\"font-weight: bold\"> Categories </span>┃<span style=\"font-weight: bold\"> scvi-tools Encoding </span>┃\n",
       "┡━━━━━━━━━━━━━━━━━━━━━╇━━━━━━━━━━━━╇━━━━━━━━━━━━━━━━━━━━━┩\n",
       "│<span style=\"color: #0087ff; text-decoration-color: #0087ff\"> adata.obs['Subset'] </span>│<span style=\"color: #008000; text-decoration-color: #008000\">    Olig    </span>│<span style=\"color: #af00d7; text-decoration-color: #af00d7\">          0          </span>│\n",
       "│<span style=\"color: #0087ff; text-decoration-color: #0087ff\">                     </span>│<span style=\"color: #008000; text-decoration-color: #008000\"> astrocytes </span>│<span style=\"color: #af00d7; text-decoration-color: #af00d7\">          1          </span>│\n",
       "│<span style=\"color: #0087ff; text-decoration-color: #0087ff\">                     </span>│<span style=\"color: #008000; text-decoration-color: #008000\">  eNeuron   </span>│<span style=\"color: #af00d7; text-decoration-color: #af00d7\">          2          </span>│\n",
       "│<span style=\"color: #0087ff; text-decoration-color: #0087ff\">                     </span>│<span style=\"color: #008000; text-decoration-color: #008000\"> endo_mural </span>│<span style=\"color: #af00d7; text-decoration-color: #af00d7\">          3          </span>│\n",
       "│<span style=\"color: #0087ff; text-decoration-color: #0087ff\">                     </span>│<span style=\"color: #008000; text-decoration-color: #008000\">  iNeuron   </span>│<span style=\"color: #af00d7; text-decoration-color: #af00d7\">          4          </span>│\n",
       "│<span style=\"color: #0087ff; text-decoration-color: #0087ff\">                     </span>│<span style=\"color: #008000; text-decoration-color: #008000\"> microglia  </span>│<span style=\"color: #af00d7; text-decoration-color: #af00d7\">          5          </span>│\n",
       "└─────────────────────┴────────────┴─────────────────────┘\n",
       "</pre>\n"
      ],
      "text/plain": [
       "\u001b[3m                     Label Categories                     \u001b[0m\n",
       "┏━━━━━━━━━━━━━━━━━━━━━┳━━━━━━━━━━━━┳━━━━━━━━━━━━━━━━━━━━━┓\n",
       "┃\u001b[1m \u001b[0m\u001b[1m  Source Location  \u001b[0m\u001b[1m \u001b[0m┃\u001b[1m \u001b[0m\u001b[1mCategories\u001b[0m\u001b[1m \u001b[0m┃\u001b[1m \u001b[0m\u001b[1mscvi-tools Encoding\u001b[0m\u001b[1m \u001b[0m┃\n",
       "┡━━━━━━━━━━━━━━━━━━━━━╇━━━━━━━━━━━━╇━━━━━━━━━━━━━━━━━━━━━┩\n",
       "│\u001b[38;5;33m \u001b[0m\u001b[38;5;33madata.obs['Subset']\u001b[0m\u001b[38;5;33m \u001b[0m│\u001b[32m \u001b[0m\u001b[32m   Olig   \u001b[0m\u001b[32m \u001b[0m│\u001b[38;5;128m \u001b[0m\u001b[38;5;128m         0         \u001b[0m\u001b[38;5;128m \u001b[0m│\n",
       "│\u001b[38;5;33m \u001b[0m\u001b[38;5;33m                   \u001b[0m\u001b[38;5;33m \u001b[0m│\u001b[32m \u001b[0m\u001b[32mastrocytes\u001b[0m\u001b[32m \u001b[0m│\u001b[38;5;128m \u001b[0m\u001b[38;5;128m         1         \u001b[0m\u001b[38;5;128m \u001b[0m│\n",
       "│\u001b[38;5;33m \u001b[0m\u001b[38;5;33m                   \u001b[0m\u001b[38;5;33m \u001b[0m│\u001b[32m \u001b[0m\u001b[32m eNeuron  \u001b[0m\u001b[32m \u001b[0m│\u001b[38;5;128m \u001b[0m\u001b[38;5;128m         2         \u001b[0m\u001b[38;5;128m \u001b[0m│\n",
       "│\u001b[38;5;33m \u001b[0m\u001b[38;5;33m                   \u001b[0m\u001b[38;5;33m \u001b[0m│\u001b[32m \u001b[0m\u001b[32mendo_mural\u001b[0m\u001b[32m \u001b[0m│\u001b[38;5;128m \u001b[0m\u001b[38;5;128m         3         \u001b[0m\u001b[38;5;128m \u001b[0m│\n",
       "│\u001b[38;5;33m \u001b[0m\u001b[38;5;33m                   \u001b[0m\u001b[38;5;33m \u001b[0m│\u001b[32m \u001b[0m\u001b[32m iNeuron  \u001b[0m\u001b[32m \u001b[0m│\u001b[38;5;128m \u001b[0m\u001b[38;5;128m         4         \u001b[0m\u001b[38;5;128m \u001b[0m│\n",
       "│\u001b[38;5;33m \u001b[0m\u001b[38;5;33m                   \u001b[0m\u001b[38;5;33m \u001b[0m│\u001b[32m \u001b[0m\u001b[32mmicroglia \u001b[0m\u001b[32m \u001b[0m│\u001b[38;5;128m \u001b[0m\u001b[38;5;128m         5         \u001b[0m\u001b[38;5;128m \u001b[0m│\n",
       "└─────────────────────┴────────────┴─────────────────────┘\n"
      ]
     },
     "metadata": {},
     "output_type": "display_data"
    },
    {
     "data": {
      "text/html": [
       "<pre style=\"white-space:pre;overflow-x:auto;line-height:normal;font-family:Menlo,'DejaVu Sans Mono',consolas,'Courier New',monospace\"><span style=\"font-style: italic\">                     Batch Categories                     </span>\n",
       "┏━━━━━━━━━━━━━━━━━━━━━┳━━━━━━━━━━━━┳━━━━━━━━━━━━━━━━━━━━━┓\n",
       "┃<span style=\"font-weight: bold\">   Source Location   </span>┃<span style=\"font-weight: bold\"> Categories </span>┃<span style=\"font-weight: bold\"> scvi-tools Encoding </span>┃\n",
       "┡━━━━━━━━━━━━━━━━━━━━━╇━━━━━━━━━━━━╇━━━━━━━━━━━━━━━━━━━━━┩\n",
       "│<span style=\"color: #0087ff; text-decoration-color: #0087ff\"> adata.obs['Sample'] </span>│<span style=\"color: #008000; text-decoration-color: #008000\">    1772    </span>│<span style=\"color: #af00d7; text-decoration-color: #af00d7\">          0          </span>│\n",
       "└─────────────────────┴────────────┴─────────────────────┘\n",
       "</pre>\n"
      ],
      "text/plain": [
       "\u001b[3m                     Batch Categories                     \u001b[0m\n",
       "┏━━━━━━━━━━━━━━━━━━━━━┳━━━━━━━━━━━━┳━━━━━━━━━━━━━━━━━━━━━┓\n",
       "┃\u001b[1m \u001b[0m\u001b[1m  Source Location  \u001b[0m\u001b[1m \u001b[0m┃\u001b[1m \u001b[0m\u001b[1mCategories\u001b[0m\u001b[1m \u001b[0m┃\u001b[1m \u001b[0m\u001b[1mscvi-tools Encoding\u001b[0m\u001b[1m \u001b[0m┃\n",
       "┡━━━━━━━━━━━━━━━━━━━━━╇━━━━━━━━━━━━╇━━━━━━━━━━━━━━━━━━━━━┩\n",
       "│\u001b[38;5;33m \u001b[0m\u001b[38;5;33madata.obs['Sample']\u001b[0m\u001b[38;5;33m \u001b[0m│\u001b[32m \u001b[0m\u001b[32m   1772   \u001b[0m\u001b[32m \u001b[0m│\u001b[38;5;128m \u001b[0m\u001b[38;5;128m         0         \u001b[0m\u001b[38;5;128m \u001b[0m│\n",
       "└─────────────────────┴────────────┴─────────────────────┘\n"
      ]
     },
     "metadata": {},
     "output_type": "display_data"
    },
    {
     "data": {
      "text/html": [
       "<pre style=\"white-space:pre;overflow-x:auto;line-height:normal;font-family:Menlo,'DejaVu Sans Mono',consolas,'Courier New',monospace\"><span style=\"font-style: italic\">               Extra Categorical Variables                </span>\n",
       "┏━━━━━━━━━━━━━━━━━━━━━┳━━━━━━━━━━━━┳━━━━━━━━━━━━━━━━━━━━━┓\n",
       "┃<span style=\"font-weight: bold\">   Source Location   </span>┃<span style=\"font-weight: bold\"> Categories </span>┃<span style=\"font-weight: bold\"> scvi-tools Encoding </span>┃\n",
       "┡━━━━━━━━━━━━━━━━━━━━━╇━━━━━━━━━━━━╇━━━━━━━━━━━━━━━━━━━━━┩\n",
       "│<span style=\"color: #0087ff; text-decoration-color: #0087ff\"> adata.obs['Method'] </span>│<span style=\"color: #008000; text-decoration-color: #008000\">    3GEX    </span>│<span style=\"color: #af00d7; text-decoration-color: #af00d7\">          0          </span>│\n",
       "│<span style=\"color: #0087ff; text-decoration-color: #0087ff\">                     </span>│<span style=\"color: #008000; text-decoration-color: #008000\">            </span>│<span style=\"color: #af00d7; text-decoration-color: #af00d7\">                     </span>│\n",
       "└─────────────────────┴────────────┴─────────────────────┘\n",
       "</pre>\n"
      ],
      "text/plain": [
       "\u001b[3m               Extra Categorical Variables                \u001b[0m\n",
       "┏━━━━━━━━━━━━━━━━━━━━━┳━━━━━━━━━━━━┳━━━━━━━━━━━━━━━━━━━━━┓\n",
       "┃\u001b[1m \u001b[0m\u001b[1m  Source Location  \u001b[0m\u001b[1m \u001b[0m┃\u001b[1m \u001b[0m\u001b[1mCategories\u001b[0m\u001b[1m \u001b[0m┃\u001b[1m \u001b[0m\u001b[1mscvi-tools Encoding\u001b[0m\u001b[1m \u001b[0m┃\n",
       "┡━━━━━━━━━━━━━━━━━━━━━╇━━━━━━━━━━━━╇━━━━━━━━━━━━━━━━━━━━━┩\n",
       "│\u001b[38;5;33m \u001b[0m\u001b[38;5;33madata.obs['Method']\u001b[0m\u001b[38;5;33m \u001b[0m│\u001b[32m \u001b[0m\u001b[32m   3GEX   \u001b[0m\u001b[32m \u001b[0m│\u001b[38;5;128m \u001b[0m\u001b[38;5;128m         0         \u001b[0m\u001b[38;5;128m \u001b[0m│\n",
       "│\u001b[38;5;33m \u001b[0m\u001b[38;5;33m                   \u001b[0m\u001b[38;5;33m \u001b[0m│\u001b[32m \u001b[0m\u001b[32m          \u001b[0m\u001b[32m \u001b[0m│\u001b[38;5;128m \u001b[0m\u001b[38;5;128m                   \u001b[0m\u001b[38;5;128m \u001b[0m│\n",
       "└─────────────────────┴────────────┴─────────────────────┘\n"
      ]
     },
     "metadata": {},
     "output_type": "display_data"
    }
   ],
   "source": [
    "scvi.data.setup_anndata(adata=adata_ref,\n",
    "                        # 10X reaction / sample / batch\n",
    "                        batch_key='Sample',\n",
    "                        # cell type, covariate used for constructing signatures\n",
    "                        labels_key='Subset',\n",
    "                        # multiplicative technical effects (platform, 3' vs 5', donor effect)\n",
    "                        categorical_covariate_keys=['Method']\n",
    "                       )\n",
    "scvi.data.view_anndata_setup(adata_ref)"
   ]
  },
  {
   "cell_type": "code",
   "execution_count": 7,
   "id": "cffff289",
   "metadata": {},
   "outputs": [
    {
     "name": "stderr",
     "output_type": "stream",
     "text": [
      "GPU available: True, used: True\n",
      "TPU available: False, using: 0 TPU cores\n",
      "/home/lih0n/anaconda3/envs/cellpymc/lib/python3.7/site-packages/pytorch_lightning/trainer/configuration_validator.py:99: UserWarning: you passed in a val_dataloader but have no validation_step. Skipping val loop\n",
      "LOCAL_RANK: 0 - CUDA_VISIBLE_DEVICES: [0]\n"
     ]
    },
    {
     "name": "stdout",
     "output_type": "stream",
     "text": [
      "Epoch 250/250: 100%|███████████████████████████████████████████████| 250/250 [01:12<00:00,  3.46it/s, v_num=1, elbo_train=9.73e+6]\n"
     ]
    },
    {
     "data": {
      "image/png": "[encoded data removed]",
      "text/plain": [
       "<Figure size 432x288 with 1 Axes>"
      ]
     },
     "metadata": {
      "needs_background": "light"
     },
     "output_type": "display_data"
    }
   ],
   "source": [
    "from cell2location.models import RegressionModel\n",
    "mod = RegressionModel(adata_ref)\n",
    "\n",
    "# Use all data for training (validation not implemented yet, train_size=1)\n",
    "mod.train(max_epochs=250, batch_size=2500, train_size=1, lr=0.002, use_gpu=True)\n",
    "\n",
    "# plot ELBO loss history during training, removing first 20 epochs from the plot\n",
    "mod.plot_history(20)"
   ]
  },
  {
   "cell_type": "code",
   "execution_count": 8,
   "id": "9d5677c6",
   "metadata": {},
   "outputs": [
    {
     "name": "stdout",
     "output_type": "stream",
     "text": [
      "Sampling local variables, batch: 100%|██████████████████████████████████████████████████████████████| 1/1 [00:08<00:00,  8.53s/it]\n",
      "Sampling global variables, sample: 100%|████████████████████████████████████████████████████████| 999/999 [00:11<00:00, 89.78it/s]\n"
     ]
    },
    {
     "name": "stderr",
     "output_type": "stream",
     "text": [
      "/home/lih0n/anaconda3/envs/cellpymc/lib/python3.7/site-packages/anndata/_core/anndata.py:1220: FutureWarning: The `inplace` parameter in pandas.Categorical.reorder_categories is deprecated and will be removed in a future version. Removing unused categories will always return a new Categorical object.\n",
      "... storing 'Subset' as categorical\n",
      "/home/lih0n/anaconda3/envs/cellpymc/lib/python3.7/site-packages/anndata/_core/anndata.py:1220: FutureWarning: The `inplace` parameter in pandas.Categorical.reorder_categories is deprecated and will be removed in a future version. Removing unused categories will always return a new Categorical object.\n",
      "... storing 'Method' as categorical\n",
      "/home/lih0n/anaconda3/envs/cellpymc/lib/python3.7/site-packages/anndata/_core/anndata.py:1220: FutureWarning: The `inplace` parameter in pandas.Categorical.reorder_categories is deprecated and will be removed in a future version. Removing unused categories will always return a new Categorical object.\n",
      "... storing 'Sample' as categorical\n"
     ]
    },
    {
     "data": {
      "text/plain": [
       "'./results/analysis/reference_signatures/sc.h5ad'"
      ]
     },
     "execution_count": 8,
     "metadata": {},
     "output_type": "execute_result"
    }
   ],
   "source": [
    "# In this section, we export the estimated cell abundance (summary of the posterior distribution).\n",
    "adata_ref = mod.export_posterior(\n",
    "    adata_ref, sample_kwargs={'num_samples': 1000, 'batch_size': 2500, 'use_gpu': True}\n",
    ")\n",
    "\n",
    "# Results saving folder\n",
    "ref_run_name = f'./results/analysis/reference_signatures'\n",
    "\n",
    "# Save model\n",
    "mod.save(f\"{ref_run_name}\", overwrite=True)\n",
    "\n",
    "adata_file = f\"{ref_run_name}/sc.h5ad\"\n",
    "adata_ref.write(adata_file)\n",
    "adata_file"
   ]
  },
  {
   "cell_type": "code",
   "execution_count": 9,
   "id": "8d2a49ba",
   "metadata": {},
   "outputs": [
    {
     "data": {
      "image/png": "[encoded data removed]",
      "text/plain": [
       "<Figure size 432x288 with 1 Axes>"
      ]
     },
     "metadata": {
      "needs_background": "light"
     },
     "output_type": "display_data"
    },
    {
     "data": {
      "image/png": "[encoded data removed]",
      "text/plain": [
       "<Figure size 432x288 with 1 Axes>"
      ]
     },
     "metadata": {
      "needs_background": "light"
     },
     "output_type": "display_data"
    }
   ],
   "source": [
    "ç"
   ]
  },
  {
   "cell_type": "code",
   "execution_count": 10,
   "id": "7d255fd2",
   "metadata": {},
   "outputs": [
    {
     "data": {
      "text/html": [
       "<div>\n",
       "<style scoped>\n",
       "    .dataframe tbody tr th:only-of-type {\n",
       "        vertical-align: middle;\n",
       "    }\n",
       "\n",
       "    .dataframe tbody tr th {\n",
       "        vertical-align: top;\n",
       "    }\n",
       "\n",
       "    .dataframe thead th {\n",
       "        text-align: right;\n",
       "    }\n",
       "</style>\n",
       "<table border=\"1\" class=\"dataframe\">\n",
       "  <thead>\n",
       "    <tr style=\"text-align: right;\">\n",
       "      <th></th>\n",
       "      <th>Olig</th>\n",
       "      <th>astrocytes</th>\n",
       "      <th>eNeuron</th>\n",
       "      <th>endo_mural</th>\n",
       "      <th>iNeuron</th>\n",
       "    </tr>\n",
       "  </thead>\n",
       "  <tbody>\n",
       "    <tr>\n",
       "      <th>Tshz1</th>\n",
       "      <td>0.358432</td>\n",
       "      <td>0.410676</td>\n",
       "      <td>0.852205</td>\n",
       "      <td>0.486135</td>\n",
       "      <td>1.525731</td>\n",
       "    </tr>\n",
       "    <tr>\n",
       "      <th>Fnbp1l</th>\n",
       "      <td>0.316208</td>\n",
       "      <td>0.472146</td>\n",
       "      <td>2.710134</td>\n",
       "      <td>0.805485</td>\n",
       "      <td>2.863626</td>\n",
       "    </tr>\n",
       "    <tr>\n",
       "      <th>Adamts15</th>\n",
       "      <td>0.023195</td>\n",
       "      <td>0.016997</td>\n",
       "      <td>0.035139</td>\n",
       "      <td>0.106113</td>\n",
       "      <td>0.313943</td>\n",
       "    </tr>\n",
       "    <tr>\n",
       "      <th>Cldn12</th>\n",
       "      <td>0.279235</td>\n",
       "      <td>0.327061</td>\n",
       "      <td>0.708267</td>\n",
       "      <td>0.132647</td>\n",
       "      <td>0.626588</td>\n",
       "    </tr>\n",
       "    <tr>\n",
       "      <th>Rxfp1</th>\n",
       "      <td>0.013796</td>\n",
       "      <td>0.000165</td>\n",
       "      <td>0.074276</td>\n",
       "      <td>0.015362</td>\n",
       "      <td>0.450810</td>\n",
       "    </tr>\n",
       "  </tbody>\n",
       "</table>\n",
       "</div>"
      ],
      "text/plain": [
       "              Olig  astrocytes   eNeuron  endo_mural   iNeuron\n",
       "Tshz1     0.358432    0.410676  0.852205    0.486135  1.525731\n",
       "Fnbp1l    0.316208    0.472146  2.710134    0.805485  2.863626\n",
       "Adamts15  0.023195    0.016997  0.035139    0.106113  0.313943\n",
       "Cldn12    0.279235    0.327061  0.708267    0.132647  0.626588\n",
       "Rxfp1     0.013796    0.000165  0.074276    0.015362  0.450810"
      ]
     },
     "execution_count": 10,
     "metadata": {},
     "output_type": "execute_result"
    }
   ],
   "source": [
    "# Export estimated expression in each cluster\n",
    "if 'means_per_cluster_mu_fg' in adata_ref.varm.keys():\n",
    "    inf_aver = adata_ref.varm['means_per_cluster_mu_fg'][[f'means_per_cluster_mu_fg_{i}'\n",
    "                                    for i in adata_ref.uns['mod']['factor_names']]].copy()\n",
    "else:\n",
    "    inf_aver = adata_ref.var[[f'means_per_cluster_mu_fg_{i}'\n",
    "                                    for i in adata_ref.uns['mod']['factor_names']]].copy()\n",
    "inf_aver.columns = adata_ref.uns['mod']['factor_names']\n",
    "inf_aver.iloc[0:5, 0:5]\n",
    "\n",
    "# Note that the column names are cell types, the row names are gene names, in the original code\n",
    "# the authors use ENSEMBL as names instead of raw gene names"
   ]
  },
  {
   "cell_type": "code",
   "execution_count": 11,
   "id": "3f87f0a0",
   "metadata": {},
   "outputs": [],
   "source": [
    "adata_vis = sc.read_csv(sp_data)\n",
    "adata_vis.obs['sample'] = 'pseudo_st' # Since it is manually generated"
   ]
  },
  {
   "cell_type": "code",
   "execution_count": 12,
   "id": "a11fe4b5",
   "metadata": {},
   "outputs": [],
   "source": [
    "intersect = np.intersect1d(adata_vis.var_names, inf_aver.index)\n",
    "adata_vis = adata_vis[:, intersect].copy()\n",
    "inf_aver = inf_aver.loc[intersect, :].copy()"
   ]
  },
  {
   "cell_type": "code",
   "execution_count": 13,
   "id": "1a22bc48",
   "metadata": {},
   "outputs": [
    {
     "name": "stdout",
     "output_type": "stream",
     "text": [
      "\u001b[34mINFO    \u001b[0m Using batches from adata.obs\u001b[1m[\u001b[0m\u001b[32m\"sample\"\u001b[0m\u001b[1m]\u001b[0m                                              \n",
      "\u001b[34mINFO    \u001b[0m No label_key inputted, assuming all cells have same label                           \n",
      "\u001b[34mINFO    \u001b[0m Using data from adata.X                                                             \n",
      "\u001b[34mINFO    \u001b[0m Computing library size prior per batch                                              \n",
      "\u001b[34mINFO    \u001b[0m Successfully registered anndata object containing \u001b[1;36m71\u001b[0m cells, \u001b[1;36m8378\u001b[0m vars, \u001b[1;36m1\u001b[0m batches, \u001b[1;36m1\u001b[0m \n",
      "         labels, and \u001b[1;36m0\u001b[0m proteins. Also registered \u001b[1;36m0\u001b[0m extra categorical covariates and \u001b[1;36m0\u001b[0m extra  \n",
      "         continuous covariates.                                                              \n",
      "\u001b[34mINFO    \u001b[0m Please do not further modify adata until model is trained.                          \n"
     ]
    },
    {
     "data": {
      "text/html": [
       "<pre style=\"white-space:pre;overflow-x:auto;line-height:normal;font-family:Menlo,'DejaVu Sans Mono',consolas,'Courier New',monospace\">Anndata setup with scvi-tools version <span style=\"color: #008080; text-decoration-color: #008080; font-weight: bold\">0.13</span>.<span style=\"color: #008080; text-decoration-color: #008080; font-weight: bold\">0</span>.\n",
       "</pre>\n"
      ],
      "text/plain": [
       "Anndata setup with scvi-tools version \u001b[1;36m0.13\u001b[0m.\u001b[1;36m0\u001b[0m.\n"
      ]
     },
     "metadata": {},
     "output_type": "display_data"
    },
    {
     "data": {
      "text/html": [
       "<pre style=\"white-space:pre;overflow-x:auto;line-height:normal;font-family:Menlo,'DejaVu Sans Mono',consolas,'Courier New',monospace\"><span style=\"font-style: italic\">              Data Summary              </span>\n",
       "┏━━━━━━━━━━━━━━━━━━━━━━━━━━━━━━┳━━━━━━━┓\n",
       "┃<span style=\"font-weight: bold\">             Data             </span>┃<span style=\"font-weight: bold\"> Count </span>┃\n",
       "┡━━━━━━━━━━━━━━━━━━━━━━━━━━━━━━╇━━━━━━━┩\n",
       "│<span style=\"color: #0087ff; text-decoration-color: #0087ff\">            Cells             </span>│<span style=\"color: #af00d7; text-decoration-color: #af00d7\">  71   </span>│\n",
       "│<span style=\"color: #0087ff; text-decoration-color: #0087ff\">             Vars             </span>│<span style=\"color: #af00d7; text-decoration-color: #af00d7\"> 8378  </span>│\n",
       "│<span style=\"color: #0087ff; text-decoration-color: #0087ff\">            Labels            </span>│<span style=\"color: #af00d7; text-decoration-color: #af00d7\">   1   </span>│\n",
       "│<span style=\"color: #0087ff; text-decoration-color: #0087ff\">           Batches            </span>│<span style=\"color: #af00d7; text-decoration-color: #af00d7\">   1   </span>│\n",
       "│<span style=\"color: #0087ff; text-decoration-color: #0087ff\">           Proteins           </span>│<span style=\"color: #af00d7; text-decoration-color: #af00d7\">   0   </span>│\n",
       "│<span style=\"color: #0087ff; text-decoration-color: #0087ff\"> Extra Categorical Covariates </span>│<span style=\"color: #af00d7; text-decoration-color: #af00d7\">   0   </span>│\n",
       "│<span style=\"color: #0087ff; text-decoration-color: #0087ff\"> Extra Continuous Covariates  </span>│<span style=\"color: #af00d7; text-decoration-color: #af00d7\">   0   </span>│\n",
       "└──────────────────────────────┴───────┘\n",
       "</pre>\n"
      ],
      "text/plain": [
       "\u001b[3m              Data Summary              \u001b[0m\n",
       "┏━━━━━━━━━━━━━━━━━━━━━━━━━━━━━━┳━━━━━━━┓\n",
       "┃\u001b[1m \u001b[0m\u001b[1m            Data            \u001b[0m\u001b[1m \u001b[0m┃\u001b[1m \u001b[0m\u001b[1mCount\u001b[0m\u001b[1m \u001b[0m┃\n",
       "┡━━━━━━━━━━━━━━━━━━━━━━━━━━━━━━╇━━━━━━━┩\n",
       "│\u001b[38;5;33m \u001b[0m\u001b[38;5;33m           Cells            \u001b[0m\u001b[38;5;33m \u001b[0m│\u001b[38;5;128m \u001b[0m\u001b[38;5;128m 71  \u001b[0m\u001b[38;5;128m \u001b[0m│\n",
       "│\u001b[38;5;33m \u001b[0m\u001b[38;5;33m            Vars            \u001b[0m\u001b[38;5;33m \u001b[0m│\u001b[38;5;128m \u001b[0m\u001b[38;5;128m8378 \u001b[0m\u001b[38;5;128m \u001b[0m│\n",
       "│\u001b[38;5;33m \u001b[0m\u001b[38;5;33m           Labels           \u001b[0m\u001b[38;5;33m \u001b[0m│\u001b[38;5;128m \u001b[0m\u001b[38;5;128m  1  \u001b[0m\u001b[38;5;128m \u001b[0m│\n",
       "│\u001b[38;5;33m \u001b[0m\u001b[38;5;33m          Batches           \u001b[0m\u001b[38;5;33m \u001b[0m│\u001b[38;5;128m \u001b[0m\u001b[38;5;128m  1  \u001b[0m\u001b[38;5;128m \u001b[0m│\n",
       "│\u001b[38;5;33m \u001b[0m\u001b[38;5;33m          Proteins          \u001b[0m\u001b[38;5;33m \u001b[0m│\u001b[38;5;128m \u001b[0m\u001b[38;5;128m  0  \u001b[0m\u001b[38;5;128m \u001b[0m│\n",
       "│\u001b[38;5;33m \u001b[0m\u001b[38;5;33mExtra Categorical Covariates\u001b[0m\u001b[38;5;33m \u001b[0m│\u001b[38;5;128m \u001b[0m\u001b[38;5;128m  0  \u001b[0m\u001b[38;5;128m \u001b[0m│\n",
       "│\u001b[38;5;33m \u001b[0m\u001b[38;5;33mExtra Continuous Covariates \u001b[0m\u001b[38;5;33m \u001b[0m│\u001b[38;5;128m \u001b[0m\u001b[38;5;128m  0  \u001b[0m\u001b[38;5;128m \u001b[0m│\n",
       "└──────────────────────────────┴───────┘\n"
      ]
     },
     "metadata": {},
     "output_type": "display_data"
    },
    {
     "data": {
      "text/html": [
       "<pre style=\"white-space:pre;overflow-x:auto;line-height:normal;font-family:Menlo,'DejaVu Sans Mono',consolas,'Courier New',monospace\"><span style=\"font-style: italic\">                SCVI Data Registry                 </span>\n",
       "┏━━━━━━━━━━━━━━━┳━━━━━━━━━━━━━━━━━━━━━━━━━━━━━━━━━┓\n",
       "┃<span style=\"font-weight: bold\">     Data      </span>┃<span style=\"font-weight: bold\">       scvi-tools Location       </span>┃\n",
       "┡━━━━━━━━━━━━━━━╇━━━━━━━━━━━━━━━━━━━━━━━━━━━━━━━━━┩\n",
       "│<span style=\"color: #0087ff; text-decoration-color: #0087ff\">       X       </span>│<span style=\"color: #af00d7; text-decoration-color: #af00d7\">             adata.X             </span>│\n",
       "│<span style=\"color: #0087ff; text-decoration-color: #0087ff\"> batch_indices </span>│<span style=\"color: #af00d7; text-decoration-color: #af00d7\">    adata.obs['_scvi_batch']     </span>│\n",
       "│<span style=\"color: #0087ff; text-decoration-color: #0087ff\"> local_l_mean  </span>│<span style=\"color: #af00d7; text-decoration-color: #af00d7\"> adata.obs['_scvi_local_l_mean'] </span>│\n",
       "│<span style=\"color: #0087ff; text-decoration-color: #0087ff\">  local_l_var  </span>│<span style=\"color: #af00d7; text-decoration-color: #af00d7\"> adata.obs['_scvi_local_l_var']  </span>│\n",
       "│<span style=\"color: #0087ff; text-decoration-color: #0087ff\">    labels     </span>│<span style=\"color: #af00d7; text-decoration-color: #af00d7\">    adata.obs['_scvi_labels']    </span>│\n",
       "└───────────────┴─────────────────────────────────┘\n",
       "</pre>\n"
      ],
      "text/plain": [
       "\u001b[3m                SCVI Data Registry                 \u001b[0m\n",
       "┏━━━━━━━━━━━━━━━┳━━━━━━━━━━━━━━━━━━━━━━━━━━━━━━━━━┓\n",
       "┃\u001b[1m \u001b[0m\u001b[1m    Data     \u001b[0m\u001b[1m \u001b[0m┃\u001b[1m \u001b[0m\u001b[1m      scvi-tools Location      \u001b[0m\u001b[1m \u001b[0m┃\n",
       "┡━━━━━━━━━━━━━━━╇━━━━━━━━━━━━━━━━━━━━━━━━━━━━━━━━━┩\n",
       "│\u001b[38;5;33m \u001b[0m\u001b[38;5;33m      X      \u001b[0m\u001b[38;5;33m \u001b[0m│\u001b[38;5;128m \u001b[0m\u001b[38;5;128m            adata.X            \u001b[0m\u001b[38;5;128m \u001b[0m│\n",
       "│\u001b[38;5;33m \u001b[0m\u001b[38;5;33mbatch_indices\u001b[0m\u001b[38;5;33m \u001b[0m│\u001b[38;5;128m \u001b[0m\u001b[38;5;128m   adata.obs['_scvi_batch']    \u001b[0m\u001b[38;5;128m \u001b[0m│\n",
       "│\u001b[38;5;33m \u001b[0m\u001b[38;5;33mlocal_l_mean \u001b[0m\u001b[38;5;33m \u001b[0m│\u001b[38;5;128m \u001b[0m\u001b[38;5;128madata.obs['_scvi_local_l_mean']\u001b[0m\u001b[38;5;128m \u001b[0m│\n",
       "│\u001b[38;5;33m \u001b[0m\u001b[38;5;33m local_l_var \u001b[0m\u001b[38;5;33m \u001b[0m│\u001b[38;5;128m \u001b[0m\u001b[38;5;128madata.obs['_scvi_local_l_var'] \u001b[0m\u001b[38;5;128m \u001b[0m│\n",
       "│\u001b[38;5;33m \u001b[0m\u001b[38;5;33m   labels    \u001b[0m\u001b[38;5;33m \u001b[0m│\u001b[38;5;128m \u001b[0m\u001b[38;5;128m   adata.obs['_scvi_labels']   \u001b[0m\u001b[38;5;128m \u001b[0m│\n",
       "└───────────────┴─────────────────────────────────┘\n"
      ]
     },
     "metadata": {},
     "output_type": "display_data"
    },
    {
     "data": {
      "text/html": [
       "<pre style=\"white-space:pre;overflow-x:auto;line-height:normal;font-family:Menlo,'DejaVu Sans Mono',consolas,'Courier New',monospace\"><span style=\"font-style: italic\">                        Label Categories                        </span>\n",
       "┏━━━━━━━━━━━━━━━━━━━━━━━━━━━┳━━━━━━━━━━━━┳━━━━━━━━━━━━━━━━━━━━━┓\n",
       "┃<span style=\"font-weight: bold\">      Source Location      </span>┃<span style=\"font-weight: bold\"> Categories </span>┃<span style=\"font-weight: bold\"> scvi-tools Encoding </span>┃\n",
       "┡━━━━━━━━━━━━━━━━━━━━━━━━━━━╇━━━━━━━━━━━━╇━━━━━━━━━━━━━━━━━━━━━┩\n",
       "│<span style=\"color: #0087ff; text-decoration-color: #0087ff\"> adata.obs['_scvi_labels'] </span>│<span style=\"color: #008000; text-decoration-color: #008000\">     0      </span>│<span style=\"color: #af00d7; text-decoration-color: #af00d7\">          0          </span>│\n",
       "└───────────────────────────┴────────────┴─────────────────────┘\n",
       "</pre>\n"
      ],
      "text/plain": [
       "\u001b[3m                        Label Categories                        \u001b[0m\n",
       "┏━━━━━━━━━━━━━━━━━━━━━━━━━━━┳━━━━━━━━━━━━┳━━━━━━━━━━━━━━━━━━━━━┓\n",
       "┃\u001b[1m \u001b[0m\u001b[1m     Source Location     \u001b[0m\u001b[1m \u001b[0m┃\u001b[1m \u001b[0m\u001b[1mCategories\u001b[0m\u001b[1m \u001b[0m┃\u001b[1m \u001b[0m\u001b[1mscvi-tools Encoding\u001b[0m\u001b[1m \u001b[0m┃\n",
       "┡━━━━━━━━━━━━━━━━━━━━━━━━━━━╇━━━━━━━━━━━━╇━━━━━━━━━━━━━━━━━━━━━┩\n",
       "│\u001b[38;5;33m \u001b[0m\u001b[38;5;33madata.obs['_scvi_labels']\u001b[0m\u001b[38;5;33m \u001b[0m│\u001b[32m \u001b[0m\u001b[32m    0     \u001b[0m\u001b[32m \u001b[0m│\u001b[38;5;128m \u001b[0m\u001b[38;5;128m         0         \u001b[0m\u001b[38;5;128m \u001b[0m│\n",
       "└───────────────────────────┴────────────┴─────────────────────┘\n"
      ]
     },
     "metadata": {},
     "output_type": "display_data"
    },
    {
     "data": {
      "text/html": [
       "<pre style=\"white-space:pre;overflow-x:auto;line-height:normal;font-family:Menlo,'DejaVu Sans Mono',consolas,'Courier New',monospace\"><span style=\"font-style: italic\">                     Batch Categories                     </span>\n",
       "┏━━━━━━━━━━━━━━━━━━━━━┳━━━━━━━━━━━━┳━━━━━━━━━━━━━━━━━━━━━┓\n",
       "┃<span style=\"font-weight: bold\">   Source Location   </span>┃<span style=\"font-weight: bold\"> Categories </span>┃<span style=\"font-weight: bold\"> scvi-tools Encoding </span>┃\n",
       "┡━━━━━━━━━━━━━━━━━━━━━╇━━━━━━━━━━━━╇━━━━━━━━━━━━━━━━━━━━━┩\n",
       "│<span style=\"color: #0087ff; text-decoration-color: #0087ff\"> adata.obs['sample'] </span>│<span style=\"color: #008000; text-decoration-color: #008000\"> pseudo_st  </span>│<span style=\"color: #af00d7; text-decoration-color: #af00d7\">          0          </span>│\n",
       "└─────────────────────┴────────────┴─────────────────────┘\n",
       "</pre>\n"
      ],
      "text/plain": [
       "\u001b[3m                     Batch Categories                     \u001b[0m\n",
       "┏━━━━━━━━━━━━━━━━━━━━━┳━━━━━━━━━━━━┳━━━━━━━━━━━━━━━━━━━━━┓\n",
       "┃\u001b[1m \u001b[0m\u001b[1m  Source Location  \u001b[0m\u001b[1m \u001b[0m┃\u001b[1m \u001b[0m\u001b[1mCategories\u001b[0m\u001b[1m \u001b[0m┃\u001b[1m \u001b[0m\u001b[1mscvi-tools Encoding\u001b[0m\u001b[1m \u001b[0m┃\n",
       "┡━━━━━━━━━━━━━━━━━━━━━╇━━━━━━━━━━━━╇━━━━━━━━━━━━━━━━━━━━━┩\n",
       "│\u001b[38;5;33m \u001b[0m\u001b[38;5;33madata.obs['sample']\u001b[0m\u001b[38;5;33m \u001b[0m│\u001b[32m \u001b[0m\u001b[32mpseudo_st \u001b[0m\u001b[32m \u001b[0m│\u001b[38;5;128m \u001b[0m\u001b[38;5;128m         0         \u001b[0m\u001b[38;5;128m \u001b[0m│\n",
       "└─────────────────────┴────────────┴─────────────────────┘\n"
      ]
     },
     "metadata": {},
     "output_type": "display_data"
    }
   ],
   "source": [
    "scvi.data.setup_anndata(adata=adata_vis, batch_key=\"sample\")\n",
    "scvi.data.view_anndata_setup(adata_vis)"
   ]
  },
  {
   "cell_type": "code",
   "execution_count": 14,
   "id": "9b791c04",
   "metadata": {},
   "outputs": [
    {
     "name": "stderr",
     "output_type": "stream",
     "text": [
      "GPU available: True, used: True\n",
      "TPU available: False, using: 0 TPU cores\n",
      "/home/lih0n/anaconda3/envs/cellpymc/lib/python3.7/site-packages/pytorch_lightning/trainer/configuration_validator.py:99: UserWarning: you passed in a val_dataloader but have no validation_step. Skipping val loop\n",
      "LOCAL_RANK: 0 - CUDA_VISIBLE_DEVICES: [0]\n"
     ]
    },
    {
     "name": "stdout",
     "output_type": "stream",
     "text": [
      "Epoch 20000/20000: 100%|███████████████████████████████████████| 20000/20000 [33:07<00:00, 10.07it/s, v_num=1, elbo_train=1.23e+6]\n"
     ]
    },
    {
     "data": {
      "image/png": "[encoded data removed]",
      "text/plain": [
       "<Figure size 432x288 with 1 Axes>"
      ]
     },
     "metadata": {
      "needs_background": "light"
     },
     "output_type": "display_data"
    }
   ],
   "source": [
    "gc.collect()\n",
    "mod = cell2location.models.Cell2location(\n",
    "    adata_vis, cell_state_df=inf_aver,\n",
    "    # the expected average cell abundance: tissue-dependent\n",
    "    # hyper-prior which can be estimated from paired histology:\n",
    "    N_cells_per_location=6,\n",
    "    # hyperparameter controlling normalisation of\n",
    "    # within-experiment variation in RNA detection (using default here):\n",
    "    detection_alpha=200\n",
    ")\n",
    "\n",
    "mod.train(max_epochs=20000,\n",
    "          # train using full data (batch_size=None)\n",
    "          batch_size=None,\n",
    "          # use all data points in training because\n",
    "          # we need to estimate cell abundance at all locations\n",
    "          train_size=1,\n",
    "          use_gpu=True)\n",
    "\n",
    "# plot ELBO loss history during training, removing first 100 epochs from the plot\n",
    "mod.plot_history(1000)\n",
    "plt.legend(labels=['full data training']);"
   ]
  },
  {
   "cell_type": "code",
   "execution_count": 15,
   "id": "d3721d64",
   "metadata": {},
   "outputs": [
    {
     "name": "stdout",
     "output_type": "stream",
     "text": [
      "Sampling local variables, batch: 100%|██████████████████████████████████████████████████████████████| 1/1 [00:13<00:00, 13.19s/it]\n",
      "Sampling global variables, sample: 100%|████████████████████████████████████████████████████████| 999/999 [00:17<00:00, 57.38it/s]\n"
     ]
    }
   ],
   "source": [
    "# In this section, we export the estimated cell abundance (summary of the posterior distribution).\n",
    "adata_vis = mod.export_posterior(\n",
    "    adata_vis, sample_kwargs={'num_samples': 1000, 'batch_size': mod.adata.n_obs, 'use_gpu': True}\n",
    ")"
   ]
  },
  {
   "cell_type": "code",
   "execution_count": 16,
   "id": "860444c2",
   "metadata": {},
   "outputs": [],
   "source": [
    "# Save model\n",
    "run_name = f'./results/analysis/cell2location_map'\n",
    "\n",
    "mod.save(run_name, overwrite=True)\n",
    "end_time = time.time()"
   ]
  },
  {
   "cell_type": "code",
   "execution_count": 17,
   "id": "994a2f5f",
   "metadata": {},
   "outputs": [
    {
     "name": "stderr",
     "output_type": "stream",
     "text": [
      "/home/lih0n/anaconda3/envs/cellpymc/lib/python3.7/site-packages/anndata/_core/anndata.py:1220: FutureWarning: The `inplace` parameter in pandas.Categorical.reorder_categories is deprecated and will be removed in a future version. Removing unused categories will always return a new Categorical object.\n",
      "... storing 'sample' as categorical\n"
     ]
    },
    {
     "data": {
      "text/plain": [
       "'./results/analysis/cell2location_map/sp.h5ad'"
      ]
     },
     "execution_count": 17,
     "metadata": {},
     "output_type": "execute_result"
    }
   ],
   "source": [
    "# Save anndata object with results\n",
    "adata_file = f\"{run_name}/sp.h5ad\"\n",
    "adata_vis.write(adata_file)\n",
    "adata_file"
   ]
  },
  {
   "cell_type": "code",
   "execution_count": 18,
   "id": "1553afdc",
   "metadata": {},
   "outputs": [
    {
     "data": {
      "image/png": "[encoded data removed]",
      "text/plain": [
       "<Figure size 432x288 with 1 Axes>"
      ]
     },
     "metadata": {
      "needs_background": "light"
     },
     "output_type": "display_data"
    }
   ],
   "source": [
    "# Examine reconstruction accuracy to assess if there are any issues with mapping\n",
    "# the plot should be roughly diagonal, strong deviations will signal problems\n",
    "mod.plot_QC()"
   ]
  },
  {
   "cell_type": "code",
   "execution_count": 19,
   "id": "640e282d",
   "metadata": {},
   "outputs": [],
   "source": [
    "# add 5% quantile, representing confident cell abundance, 'at least this amount is present',\n",
    "# to adata.obs with nice names for plotting\n",
    "adata_vis.obs[adata_vis.uns['mod']['factor_names']] = adata_vis.obsm['q05_cell_abundance_w_sf']\n",
    "result1 = adata_vis.obsm['q05_cell_abundance_w_sf']\n",
    "result2 = adata_vis.obsm['q95_cell_abundance_w_sf']\n",
    "result3 = adata_vis.obsm['means_cell_abundance_w_sf']\n",
    "# result_mean = result3.to_csv('mean_gene_expressionhalfx.csv')\n",
    "# result2.to_csv('95_gene_expressionhalfx.csv')\n",
    "# result1.to_csv('05_gene_expressionhalfx.csv')"
   ]
  },
  {
   "cell_type": "code",
   "execution_count": 20,
   "id": "262f5c07",
   "metadata": {},
   "outputs": [],
   "source": [
    "sum_result_3 = result3.sum(axis=1)\n",
    "result3_percent = result3.div(result3.assign(total=sum_result_3)['total'], axis='index')\n",
    "result_name = os.path.join(parent_path, \"seqFISH_10000_Result\", \"Cell2location.csv\")\n",
    "result3_percent.to_csv(result_name)"
   ]
  },
  {
   "cell_type": "code",
   "execution_count": 21,
   "id": "5457478d",
   "metadata": {},
   "outputs": [],
   "source": [
    "sum_result_2 = result2.sum(axis=1)\n",
    "result2_percent = result2.div(result2.assign(total=sum_result_2)['total'], axis='index')\n",
    "result2_percent.to_csv('q95_gene_expression_test_SeqFISH_10000.csv')"
   ]
  },
  {
   "cell_type": "code",
   "execution_count": 22,
   "id": "fe0d9d43",
   "metadata": {},
   "outputs": [],
   "source": [
    "sum_result_1 = result1.sum(axis=1)\n",
    "result1_percent = result1.div(result1.assign(total=sum_result_1)['total'], axis='index')\n",
    "result1_percent.to_csv('q05_gene_expression_test_SeqFISH_10000.csv')"
   ]
  },
  {
   "cell_type": "code",
   "execution_count": 23,
   "id": "8320a3e8",
   "metadata": {},
   "outputs": [
    {
     "name": "stdout",
     "output_type": "stream",
     "text": [
      "Total time comsuption: seconds\n",
      "2153.3392839431763\n"
     ]
    }
   ],
   "source": [
    "print(\"Total time comsuption: seconds\")\n",
    "print(end_time - start_time)"
   ]
  },
  {
   "cell_type": "code",
   "execution_count": 24,
   "id": "e2a86907",
   "metadata": {},
   "outputs": [],
   "source": [
    "# stdata = pd.read_csv('stdata_MERFISH_20.csv', header=0, index_col=0)\n",
    "# scdata = pd.read_csv('cellcount_MERFISH_20.csv', header=0, index_col=0)\n",
    "# print(stdata.shape)\n",
    "# print(scdata.shape)"
   ]
  }
 ],
 "metadata": {
  "kernelspec": {
   "display_name": "cell2loc_env",
   "language": "python",
   "name": "cell2loc_env"
  },
  "language_info": {
   "codemirror_mode": {
    "name": "ipython",
    "version": 3
   },
   "file_extension": ".py",
   "mimetype": "text/x-python",
   "name": "python",
   "nbconvert_exporter": "python",
   "pygments_lexer": "ipython3",
   "version": "3.11.5"
  }
 },
 "nbformat": 4,
 "nbformat_minor": 5
}
