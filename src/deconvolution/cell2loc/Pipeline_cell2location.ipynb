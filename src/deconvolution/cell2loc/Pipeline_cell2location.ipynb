{
 "cells": [
  {
   "cell_type": "code",
   "execution_count": 2,
   "id": "e7e09f5f",
   "metadata": {
    "execution": {
     "iopub.execute_input": "2024-06-20T03:01:18.631278Z",
     "iopub.status.busy": "2024-06-20T03:01:18.630619Z",
     "iopub.status.idle": "2024-06-20T03:01:19.339461Z",
     "shell.execute_reply": "2024-06-20T03:01:19.338255Z",
     "shell.execute_reply.started": "2024-06-20T03:01:18.631241Z"
    }
   },
   "outputs": [
    {
     "data": {
      "text/plain": [
       "39207"
      ]
     },
     "execution_count": 2,
     "metadata": {},
     "output_type": "execute_result"
    }
   ],
   "source": [
    "import sys\n",
    "import scanpy as sc\n",
    "import anndata\n",
    "import pandas as pd\n",
    "import numpy as np\n",
    "import matplotlib.pyplot as plt\n",
    "import matplotlib as mpl\n",
    "# import cell2location\n",
    "import scvi\n",
    "import os\n",
    "from matplotlib import rcParams\n",
    "rcParams['pdf.fonttype'] = 42\n",
    "import seaborn as sns\n",
    "import time\n",
    "import gc\n",
    "gc.collect()\n"
   ]
  },
  {
   "cell_type": "code",
   "execution_count": 1,
   "id": "dbb3bc46-e344-4822-9320-8fd7b8babd62",
   "metadata": {
    "execution": {
     "iopub.execute_input": "2024-06-20T03:00:47.155052Z",
     "iopub.status.busy": "2024-06-20T03:00:47.154432Z",
     "iopub.status.idle": "2024-06-20T03:01:13.069833Z",
     "shell.execute_reply": "2024-06-20T03:01:13.068667Z",
     "shell.execute_reply.started": "2024-06-20T03:00:47.155020Z"
    }
   },
   "outputs": [
    {
     "name": "stderr",
     "output_type": "stream",
     "text": [
      "/home/myi/data/conda/envs/c2l/lib/python3.9/site-packages/tqdm/auto.py:21: TqdmWarning: IProgress not found. Please update jupyter and ipywidgets. See https://ipywidgets.readthedocs.io/en/stable/user_install.html\n",
      "  from .autonotebook import tqdm as notebook_tqdm\n",
      "/home/myi/data/conda/envs/c2l/lib/python3.9/site-packages/scvi/_settings.py:63: UserWarning: Since v1.0.0, scvi-tools no longer uses a random seed by default. Run `scvi.settings.seed = 0` to reproduce results from previous versions.\n",
      "  self.seed = seed\n",
      "/home/myi/data/conda/envs/c2l/lib/python3.9/site-packages/scvi/_settings.py:70: UserWarning: Setting `dl_pin_memory_gpu_training` is deprecated in v1.0 and will be removed in v1.1. Please pass in `pin_memory` to the data loaders instead.\n",
      "  self.dl_pin_memory_gpu_training = (\n"
     ]
    }
   ],
   "source": [
    "\n",
    "import cell2location"
   ]
  },
  {
   "cell_type": "code",
   "execution_count": null,
   "id": "6b5c20fe-097a-4108-bfca-2cb805387397",
   "metadata": {},
   "outputs": [],
   "source": [
    "# load data\n",
    "cellcount = \"/home/myi/data/scRNA-seq/sc_counts_SHK166_RA_Knee.mtx\"\n",
    "sp_data = \"/home/myi/data/spatial-trancriptomics/st_counts_SHK166_RA_Knee.mtx\"\n",
    "celltype = \"/home/myi/data/scRNA-seq/ctypes7_counts_SHK166_RA_Knee.csv\"\n",
    "\n",
    "start_time = time.time()\n",
    "adata_ref = sc.read_mtx(cellcount).transpose()\n",
    "df_celltype = pd.read_csv(celltype, header=0, index_col=0)\n",
    "df_celltype.index = adata_ref.obs.index\n",
    "adata_ref.obs['Subset'] = df_celltype\n",
    "shuffled_obs_indices = np.random.permutation(adata_ref.n_obs)\n",
    "adata_ref = adata_ref[shuffled_obs_indices, :]\n",
    "print(df_celltype)\n",
    "print(adata_ref.obs.index)"
   ]
  },
  {
   "cell_type": "code",
   "execution_count": null,
   "id": "795af496-5f82-47ce-baa0-933c86870a0c",
   "metadata": {},
   "outputs": [],
   "source": []
  },
  {
   "cell_type": "code",
   "execution_count": null,
   "id": "f4922b1d-f5db-4e5e-881e-0a41df58eb8b",
   "metadata": {},
   "outputs": [],
   "source": [
    "!pwd\n",
    "adata_file = \"./results/analysis/reference_signatures/sc.h5ad\"\n",
    "adata_vis = sc.read_h5ad(adata_file)"
   ]
  },
  {
   "cell_type": "code",
   "execution_count": null,
   "id": "98719b59-d377-427c-b4c9-ffcdc5b6a4df",
   "metadata": {},
   "outputs": [],
   "source": [
    "# select one slide\n",
    "from cell2location.utils import select_slide\n",
    "slide = select_slide(adata_vis, 'SHK')\n"
   ]
  },
  {
   "cell_type": "code",
   "execution_count": null,
   "id": "b91f746f",
   "metadata": {},
   "outputs": [],
   "source": [
    "start_time = time.time()\n",
    "adata_ref = sc.read_mtx(cellcount).transpose() # cells by genes\n",
    "df_celltype = pd.read_csv(celltype, header=0, index_col=0)\n",
    "print(df_celltype)\n",
    "df_celltype.index = adata_ref.obs.index\n",
    "adata_ref.obs['Subset'] = df_celltype\n",
    "\n",
    "df_celltype.head()\n",
    "# Get 'Method'\n",
    "adata_ref.obs['Method'] = '3GEX'\n",
    "\n",
    "# Get 'Sample'\n",
    "adata_ref.obs['Sample'] = adata_ref.obs_names\n",
    "adata_ref.obs['Sample'] = adata_ref.obs['Sample'].apply(lambda x: x[0:4])"
   ]
  },
  {
   "cell_type": "code",
   "execution_count": null,
   "id": "f0a1359b",
   "metadata": {},
   "outputs": [],
   "source": [
    "from cell2location.utils.filtering import filter_genes\n",
    "selected = filter_genes(adata_ref, cell_count_cutoff=5, cell_percentage_cutoff2=0.03, nonz_mean_cutoff=1.12)\n",
    "# 5, 0.03, 1.12\n",
    "\n",
    "# In our case, a few genes are cut\n",
    "adata_ref = adata_ref[:, selected].copy()"
   ]
  },
  {
   "cell_type": "code",
   "execution_count": null,
   "id": "eafa7621",
   "metadata": {},
   "outputs": [],
   "source": [
    "scvi.data.setup_anndata(adata=adata_ref,\n",
    "                        # 10X reaction / sample / batch\n",
    "                        batch_key='Sample',\n",
    "                        # cell type, covariate used for constructing signatures\n",
    "                        labels_key='Subset',\n",
    "                        # multiplicative technical effects (platform, 3' vs 5', donor effect)\n",
    "                        categorical_covariate_keys=['Method']\n",
    "                       )\n",
    "scvi.data.view_anndata_setup(adata_ref)"
   ]
  },
  {
   "cell_type": "code",
   "execution_count": null,
   "id": "cffff289",
   "metadata": {},
   "outputs": [],
   "source": [
    "from cell2location.models import RegressionModel\n",
    "mod = RegressionModel(adata_ref)\n",
    "\n",
    "# Use all data for training (validation not implemented yet, train_size=1)\n",
    "mod.train(max_epochs=250, batch_size=2500, train_size=1, lr=0.002, use_gpu=True)\n",
    "\n",
    "# plot ELBO loss history during training, removing first 20 epochs from the plot\n",
    "mod.plot_history(20)"
   ]
  },
  {
   "cell_type": "code",
   "execution_count": null,
   "id": "9d5677c6",
   "metadata": {},
   "outputs": [],
   "source": [
    "# In this section, we export the estimated cell abundance (summary of the posterior distribution).\n",
    "adata_ref = mod.export_posterior(\n",
    "    adata_ref, sample_kwargs={'num_samples': 1000, 'batch_size': 2500, 'use_gpu': True}\n",
    ")\n",
    "\n",
    "# Results saving folder\n",
    "ref_run_name = f'./results/analysis/reference_signatures'\n",
    "\n",
    "# Save model\n",
    "mod.save(f\"{ref_run_name}\", overwrite=True)\n",
    "\n",
    "adata_file = f\"{ref_run_name}/sc.h5ad\"\n",
    "adata_ref.write(adata_file)\n",
    "adata_file"
   ]
  },
  {
   "cell_type": "code",
   "execution_count": null,
   "id": "8d2a49ba",
   "metadata": {},
   "outputs": [],
   "source": [
    "ç"
   ]
  },
  {
   "cell_type": "code",
   "execution_count": null,
   "id": "7d255fd2",
   "metadata": {},
   "outputs": [],
   "source": [
    "# Export estimated expression in each cluster\n",
    "if 'means_per_cluster_mu_fg' in adata_ref.varm.keys():\n",
    "    inf_aver = adata_ref.varm['means_per_cluster_mu_fg'][[f'means_per_cluster_mu_fg_{i}'\n",
    "                                    for i in adata_ref.uns['mod']['factor_names']]].copy()\n",
    "else:\n",
    "    inf_aver = adata_ref.var[[f'means_per_cluster_mu_fg_{i}'\n",
    "                                    for i in adata_ref.uns['mod']['factor_names']]].copy()\n",
    "inf_aver.columns = adata_ref.uns['mod']['factor_names']\n",
    "inf_aver.iloc[0:5, 0:5]\n",
    "\n",
    "# Note that the column names are cell types, the row names are gene names, in the original code\n",
    "# the authors use ENSEMBL as names instead of raw gene names"
   ]
  },
  {
   "cell_type": "code",
   "execution_count": null,
   "id": "3f87f0a0",
   "metadata": {},
   "outputs": [],
   "source": [
    "adata_vis = sc.read_csv(sp_data)\n",
    "adata_vis.obs['sample'] = 'pseudo_st' # Since it is manually generated"
   ]
  },
  {
   "cell_type": "code",
   "execution_count": null,
   "id": "a11fe4b5",
   "metadata": {},
   "outputs": [],
   "source": [
    "intersect = np.intersect1d(adata_vis.var_names, inf_aver.index)\n",
    "adata_vis = adata_vis[:, intersect].copy()\n",
    "inf_aver = inf_aver.loc[intersect, :].copy()"
   ]
  },
  {
   "cell_type": "code",
   "execution_count": null,
   "id": "1a22bc48",
   "metadata": {},
   "outputs": [],
   "source": [
    "scvi.data.setup_anndata(adata=adata_vis, batch_key=\"sample\")\n",
    "scvi.data.view_anndata_setup(adata_vis)"
   ]
  },
  {
   "cell_type": "code",
   "execution_count": null,
   "id": "9b791c04",
   "metadata": {},
   "outputs": [],
   "source": [
    "gc.collect()\n",
    "mod = cell2location.models.Cell2location(\n",
    "    adata_vis, cell_state_df=inf_aver,\n",
    "    # the expected average cell abundance: tissue-dependent\n",
    "    # hyper-prior which can be estimated from paired histology:\n",
    "    N_cells_per_location=6,\n",
    "    # hyperparameter controlling normalisation of\n",
    "    # within-experiment variation in RNA detection (using default here):\n",
    "    detection_alpha=200\n",
    ")\n",
    "\n",
    "mod.train(max_epochs=20000,\n",
    "          # train using full data (batch_size=None)\n",
    "          batch_size=None,\n",
    "          # use all data points in training because\n",
    "          # we need to estimate cell abundance at all locations\n",
    "          train_size=1,\n",
    "          use_gpu=True)\n",
    "\n",
    "# plot ELBO loss history during training, removing first 100 epochs from the plot\n",
    "mod.plot_history(1000)\n",
    "plt.legend(labels=['full data training']);"
   ]
  },
  {
   "cell_type": "code",
   "execution_count": null,
   "id": "d3721d64",
   "metadata": {},
   "outputs": [],
   "source": [
    "# In this section, we export the estimated cell abundance (summary of the posterior distribution).\n",
    "adata_vis = mod.export_posterior(\n",
    "    adata_vis, sample_kwargs={'num_samples': 1000, 'batch_size': mod.adata.n_obs, 'use_gpu': True}\n",
    ")"
   ]
  },
  {
   "cell_type": "code",
   "execution_count": null,
   "id": "860444c2",
   "metadata": {},
   "outputs": [],
   "source": [
    "# Save model\n",
    "run_name = f'./results/analysis/cell2location_map'\n",
    "\n",
    "mod.save(run_name, overwrite=True)\n",
    "end_time = time.time()"
   ]
  },
  {
   "cell_type": "code",
   "execution_count": null,
   "id": "994a2f5f",
   "metadata": {},
   "outputs": [],
   "source": [
    "# Save anndata object with results\n",
    "adata_file = f\"{run_name}/sp.h5ad\"\n",
    "adata_vis.write(adata_file)\n",
    "adata_file"
   ]
  },
  {
   "cell_type": "code",
   "execution_count": null,
   "id": "1553afdc",
   "metadata": {},
   "outputs": [],
   "source": [
    "# Examine reconstruction accuracy to assess if there are any issues with mapping\n",
    "# the plot should be roughly diagonal, strong deviations will signal problems\n",
    "mod.plot_QC()"
   ]
  },
  {
   "cell_type": "code",
   "execution_count": null,
   "id": "640e282d",
   "metadata": {},
   "outputs": [],
   "source": [
    "# add 5% quantile, representing confident cell abundance, 'at least this amount is present',\n",
    "# to adata.obs with nice names for plotting\n",
    "adata_vis.obs[adata_vis.uns['mod']['factor_names']] = adata_vis.obsm['q05_cell_abundance_w_sf']\n",
    "result1 = adata_vis.obsm['q05_cell_abundance_w_sf']\n",
    "result2 = adata_vis.obsm['q95_cell_abundance_w_sf']\n",
    "result3 = adata_vis.obsm['means_cell_abundance_w_sf']\n",
    "# result_mean = result3.to_csv('mean_gene_expressionhalfx.csv')\n",
    "# result2.to_csv('95_gene_expressionhalfx.csv')\n",
    "# result1.to_csv('05_gene_expressionhalfx.csv')"
   ]
  },
  {
   "cell_type": "code",
   "execution_count": null,
   "id": "262f5c07",
   "metadata": {},
   "outputs": [],
   "source": [
    "sum_result_3 = result3.sum(axis=1)\n",
    "result3_percent = result3.div(result3.assign(total=sum_result_3)['total'], axis='index')\n",
    "result_name = os.path.join(parent_path, \"seqFISH_10000_Result\", \"Cell2location.csv\")\n",
    "result3_percent.to_csv(result_name)"
   ]
  },
  {
   "cell_type": "code",
   "execution_count": null,
   "id": "5457478d",
   "metadata": {},
   "outputs": [],
   "source": [
    "sum_result_2 = result2.sum(axis=1)\n",
    "result2_percent = result2.div(result2.assign(total=sum_result_2)['total'], axis='index')\n",
    "result2_percent.to_csv('q95_gene_expression_test_SeqFISH_10000.csv')"
   ]
  },
  {
   "cell_type": "code",
   "execution_count": null,
   "id": "fe0d9d43",
   "metadata": {},
   "outputs": [],
   "source": [
    "sum_result_1 = result1.sum(axis=1)\n",
    "result1_percent = result1.div(result1.assign(total=sum_result_1)['total'], axis='index')\n",
    "result1_percent.to_csv('q05_gene_expression_test_SeqFISH_10000.csv')"
   ]
  },
  {
   "cell_type": "code",
   "execution_count": null,
   "id": "8320a3e8",
   "metadata": {},
   "outputs": [],
   "source": [
    "print(\"Total time comsuption: seconds\")\n",
    "print(end_time - start_time)"
   ]
  },
  {
   "cell_type": "code",
   "execution_count": null,
   "id": "e2a86907",
   "metadata": {},
   "outputs": [],
   "source": [
    "# stdata = pd.read_csv('stdata_MERFISH_20.csv', header=0, index_col=0)\n",
    "# scdata = pd.read_csv('cellcount_MERFISH_20.csv', header=0, index_col=0)\n",
    "# print(stdata.shape)\n",
    "# print(scdata.shape)"
   ]
  }
 ],
 "metadata": {
  "kernelspec": {
   "display_name": "c2l",
   "language": "python",
   "name": "c2l"
  },
  "language_info": {
   "codemirror_mode": {
    "name": "ipython",
    "version": 3
   },
   "file_extension": ".py",
   "mimetype": "text/x-python",
   "name": "python",
   "nbconvert_exporter": "python",
   "pygments_lexer": "ipython3",
   "version": "3.9.19"
  }
 },
 "nbformat": 4,
 "nbformat_minor": 5
}
