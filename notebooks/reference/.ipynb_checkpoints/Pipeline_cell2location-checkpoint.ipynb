{
 "cells": [
  {
   "cell_type": "code",
   "execution_count": 2,
   "id": "e7e09f5f",
   "metadata": {
    "execution": {
     "iopub.execute_input": "2024-05-31T07:10:43.788163Z",
     "iopub.status.busy": "2024-05-31T07:10:43.787731Z",
     "iopub.status.idle": "2024-05-31T07:10:43.861689Z",
     "shell.execute_reply": "2024-05-31T07:10:43.861133Z",
     "shell.execute_reply.started": "2024-05-31T07:10:43.788144Z"
    }
   },
   "outputs": [
    {
     "ename": "ImportError",
     "evalue": "cannot import name 'REGISTRY_KEYS' from 'scvi' (unknown location)",
     "output_type": "error",
     "traceback": [
      "\u001b[0;31m---------------------------------------------------------------------------\u001b[0m",
      "\u001b[0;31mImportError\u001b[0m                               Traceback (most recent call last)",
      "Cell \u001b[0;32mIn[2], line 9\u001b[0m\n\u001b[1;32m      7\u001b[0m \u001b[38;5;28;01mimport\u001b[39;00m \u001b[38;5;21;01mmatplotlib\u001b[39;00m \u001b[38;5;28;01mas\u001b[39;00m \u001b[38;5;21;01mmpl\u001b[39;00m\n\u001b[1;32m      8\u001b[0m \u001b[38;5;28;01mimport\u001b[39;00m \u001b[38;5;21;01mscvi\u001b[39;00m\n\u001b[0;32m----> 9\u001b[0m \u001b[38;5;28;01mimport\u001b[39;00m \u001b[38;5;21;01mcell2location\u001b[39;00m\n\u001b[1;32m     10\u001b[0m \u001b[38;5;28;01mimport\u001b[39;00m \u001b[38;5;21;01mos\u001b[39;00m\n\u001b[1;32m     11\u001b[0m \u001b[38;5;28;01mfrom\u001b[39;00m \u001b[38;5;21;01mmatplotlib\u001b[39;00m \u001b[38;5;28;01mimport\u001b[39;00m rcParams\n",
      "File \u001b[0;32m~/.local/lib/python3.11/site-packages/cell2location/__init__.py:9\u001b[0m\n\u001b[1;32m      6\u001b[0m \u001b[38;5;28;01mfrom\u001b[39;00m \u001b[38;5;21;01mrich\u001b[39;00m\u001b[38;5;21;01m.\u001b[39;00m\u001b[38;5;21;01mlogging\u001b[39;00m \u001b[38;5;28;01mimport\u001b[39;00m RichHandler\n\u001b[1;32m      7\u001b[0m \u001b[38;5;28;01mfrom\u001b[39;00m \u001b[38;5;21;01mtorch\u001b[39;00m\u001b[38;5;21;01m.\u001b[39;00m\u001b[38;5;21;01mdistributions\u001b[39;00m \u001b[38;5;28;01mimport\u001b[39;00m biject_to, transform_to\n\u001b[0;32m----> 9\u001b[0m \u001b[38;5;28;01mfrom\u001b[39;00m \u001b[38;5;21;01m.\u001b[39;00m \u001b[38;5;28;01mimport\u001b[39;00m models\n\u001b[1;32m     10\u001b[0m \u001b[38;5;28;01mfrom\u001b[39;00m \u001b[38;5;21;01m.\u001b[39;00m\u001b[38;5;21;01mcell_comm\u001b[39;00m\u001b[38;5;21;01m.\u001b[39;00m\u001b[38;5;21;01maround_target\u001b[39;00m \u001b[38;5;28;01mimport\u001b[39;00m compute_weighted_average_around_target\n\u001b[1;32m     11\u001b[0m \u001b[38;5;28;01mfrom\u001b[39;00m \u001b[38;5;21;01m.\u001b[39;00m\u001b[38;5;21;01mrun_colocation\u001b[39;00m \u001b[38;5;28;01mimport\u001b[39;00m run_colocation\n",
      "File \u001b[0;32m~/.local/lib/python3.11/site-packages/cell2location/models/__init__.py:1\u001b[0m\n\u001b[0;32m----> 1\u001b[0m \u001b[38;5;28;01mfrom\u001b[39;00m \u001b[38;5;21;01m.\u001b[39;00m\u001b[38;5;21;01m_cell2location_model\u001b[39;00m \u001b[38;5;28;01mimport\u001b[39;00m Cell2location\n\u001b[1;32m      2\u001b[0m \u001b[38;5;28;01mfrom\u001b[39;00m \u001b[38;5;21;01m.\u001b[39;00m\u001b[38;5;21;01m_cell2location_module\u001b[39;00m \u001b[38;5;28;01mimport\u001b[39;00m (\n\u001b[1;32m      3\u001b[0m     LocationModelLinearDependentWMultiExperimentLocationBackgroundNormLevelGeneAlphaPyroModel,\n\u001b[1;32m      4\u001b[0m )\n\u001b[1;32m      5\u001b[0m \u001b[38;5;28;01mfrom\u001b[39;00m \u001b[38;5;21;01m.\u001b[39;00m\u001b[38;5;21;01m_cell2location_WTA_model\u001b[39;00m \u001b[38;5;28;01mimport\u001b[39;00m Cell2location_WTA\n",
      "File \u001b[0;32m~/.local/lib/python3.11/site-packages/cell2location/models/_cell2location_model.py:12\u001b[0m\n\u001b[1;32m     10\u001b[0m \u001b[38;5;28;01mfrom\u001b[39;00m \u001b[38;5;21;01mpyro\u001b[39;00m\u001b[38;5;21;01m.\u001b[39;00m\u001b[38;5;21;01minfer\u001b[39;00m \u001b[38;5;28;01mimport\u001b[39;00m Trace_ELBO, TraceEnum_ELBO\n\u001b[1;32m     11\u001b[0m \u001b[38;5;28;01mfrom\u001b[39;00m \u001b[38;5;21;01mpyro\u001b[39;00m\u001b[38;5;21;01m.\u001b[39;00m\u001b[38;5;21;01mnn\u001b[39;00m \u001b[38;5;28;01mimport\u001b[39;00m PyroModule\n\u001b[0;32m---> 12\u001b[0m \u001b[38;5;28;01mfrom\u001b[39;00m \u001b[38;5;21;01mscvi\u001b[39;00m \u001b[38;5;28;01mimport\u001b[39;00m REGISTRY_KEYS\n\u001b[1;32m     13\u001b[0m \u001b[38;5;28;01mfrom\u001b[39;00m \u001b[38;5;21;01mscvi\u001b[39;00m\u001b[38;5;21;01m.\u001b[39;00m\u001b[38;5;21;01mdata\u001b[39;00m \u001b[38;5;28;01mimport\u001b[39;00m AnnDataManager\n\u001b[1;32m     14\u001b[0m \u001b[38;5;28;01mfrom\u001b[39;00m \u001b[38;5;21;01mscvi\u001b[39;00m\u001b[38;5;21;01m.\u001b[39;00m\u001b[38;5;21;01mdata\u001b[39;00m\u001b[38;5;21;01m.\u001b[39;00m\u001b[38;5;21;01mfields\u001b[39;00m \u001b[38;5;28;01mimport\u001b[39;00m (\n\u001b[1;32m     15\u001b[0m     CategoricalJointObsField,\n\u001b[1;32m     16\u001b[0m     CategoricalObsField,\n\u001b[0;32m   (...)\u001b[0m\n\u001b[1;32m     19\u001b[0m     NumericalObsField,\n\u001b[1;32m     20\u001b[0m )\n",
      "\u001b[0;31mImportError\u001b[0m: cannot import name 'REGISTRY_KEYS' from 'scvi' (unknown location)"
     ]
    }
   ],
   "source": [
    "import sys\n",
    "import scanpy as sc\n",
    "import anndata\n",
    "import pandas as pd\n",
    "import numpy as np\n",
    "import matplotlib.pyplot as plt\n",
    "import matplotlib as mpl\n",
    "import scvi\n",
    "import cell2location\n",
    "import os\n",
    "from matplotlib import rcParams\n",
    "rcParams['pdf.fonttype'] = 42\n",
    "import seaborn as sns\n",
    "import time\n",
    "import gc\n",
    "gc.collect()\n",
    "\n",
    "import pyreadr"
   ]
  },
  {
   "cell_type": "code",
   "execution_count": 5,
   "id": "fe9d6713-7721-44e8-8f22-7c24970e37a5",
   "metadata": {
    "execution": {
     "iopub.execute_input": "2024-05-31T07:11:52.168341Z",
     "iopub.status.busy": "2024-05-31T07:11:52.167625Z",
     "iopub.status.idle": "2024-05-31T07:11:54.528551Z",
     "shell.execute_reply": "2024-05-31T07:11:54.527623Z",
     "shell.execute_reply.started": "2024-05-31T07:11:52.168321Z"
    }
   },
   "outputs": [
    {
     "name": "stdout",
     "output_type": "stream",
     "text": [
      "/home/myi/mt-spatial-transcriptomics/notebooks/reference\n"
     ]
    },
    {
     "ename": "PyreadrError",
     "evalue": "File b'data/ref_from_merged_subpop_down_main_clusters_for_CCI.rds' does not exist!",
     "output_type": "error",
     "traceback": [
      "\u001b[0;31m---------------------------------------------------------------------------\u001b[0m",
      "\u001b[0;31mPyreadrError\u001b[0m                              Traceback (most recent call last)",
      "Cell \u001b[0;32mIn[5], line 6\u001b[0m\n\u001b[1;32m      3\u001b[0m ref_path \u001b[38;5;241m=\u001b[39m \u001b[38;5;124m\"\u001b[39m\u001b[38;5;124mdata/ref_from_merged_subpop_down_main_clusters_for_CCI.rds\u001b[39m\u001b[38;5;124m\"\u001b[39m\n\u001b[1;32m      5\u001b[0m \u001b[38;5;66;03m# Read the RDS file\u001b[39;00m\n\u001b[0;32m----> 6\u001b[0m result \u001b[38;5;241m=\u001b[39m \u001b[43mpyreadr\u001b[49m\u001b[38;5;241;43m.\u001b[39;49m\u001b[43mread_r\u001b[49m\u001b[43m(\u001b[49m\u001b[43mref_path\u001b[49m\u001b[43m)\u001b[49m\n\u001b[1;32m      8\u001b[0m \u001b[38;5;66;03m# Extract the data (assuming the RDS file contains a single DataFrame)\u001b[39;00m\n\u001b[1;32m      9\u001b[0m data_frame \u001b[38;5;241m=\u001b[39m result[\u001b[38;5;28;01mNone\u001b[39;00m]\n",
      "File \u001b[0;32m~/.local/lib/python3.11/site-packages/pyreadr/pyreadr.py:65\u001b[0m, in \u001b[0;36mread_r\u001b[0;34m(path, use_objects, timezone)\u001b[0m\n\u001b[1;32m     63\u001b[0m filename_bytes \u001b[38;5;241m=\u001b[39m os\u001b[38;5;241m.\u001b[39mpath\u001b[38;5;241m.\u001b[39mexpanduser(filename_bytes)\n\u001b[1;32m     64\u001b[0m \u001b[38;5;28;01mif\u001b[39;00m \u001b[38;5;129;01mnot\u001b[39;00m os\u001b[38;5;241m.\u001b[39mpath\u001b[38;5;241m.\u001b[39misfile(filename_bytes):\n\u001b[0;32m---> 65\u001b[0m     \u001b[38;5;28;01mraise\u001b[39;00m PyreadrError(\u001b[38;5;124m\"\u001b[39m\u001b[38;5;124mFile \u001b[39m\u001b[38;5;132;01m{0}\u001b[39;00m\u001b[38;5;124m does not exist!\u001b[39m\u001b[38;5;124m\"\u001b[39m\u001b[38;5;241m.\u001b[39mformat(filename_bytes))\n\u001b[1;32m     66\u001b[0m parser\u001b[38;5;241m.\u001b[39mparse(filename_bytes)\n\u001b[1;32m     68\u001b[0m result \u001b[38;5;241m=\u001b[39m OrderedDict()\n",
      "\u001b[0;31mPyreadrError\u001b[0m: File b'data/ref_from_merged_subpop_down_main_clusters_for_CCI.rds' does not exist!"
     ]
    }
   ],
   "source": [
    "import pyreadr\n",
    "!pwd\n",
    "ref_path = \"~/data/ref_from_merged_subpop_down_main_clusters_for_CCI.rds\"\n",
    "\n",
    "# Read the RDS file\n",
    "result = pyreadr.read_r(ref_path)\n",
    "\n",
    "# Extract the data (assuming the RDS file contains a single DataFrame)\n",
    "data_frame = result[None]\n",
    "\n",
    "# Print the DataFrame\n",
    "print(data_frame)\n"
   ]
  },
  {
   "cell_type": "code",
   "execution_count": null,
   "id": "8cac02e4",
   "metadata": {},
   "outputs": [],
   "source": [
    "parent_path = os.path.dirname(os.getcwd())\n",
    "cellcount = os.path.join(parent_path, \"datasets\", \"SeqFISH+\", \"cellcount_SeqFISH_10000.csv\")\n",
    "sp_data = os.path.join(parent_path, \"datasets\", \"SeqFISH+\", \"stdata_SeqFISH_10000.csv\")\n",
    "celltype = os.path.join(parent_path, \"datasets\", \"SeqFISH+\", \"cell_type_SeqFISH.csv\")"
   ]
  },
  {
   "cell_type": "code",
   "execution_count": null,
   "id": "b91f746f",
   "metadata": {},
   "outputs": [],
   "source": [
    "start_time = time.time()\n",
    "adata_ref = sc.read_csv(cellcount)\n",
    "df_celltype = pd.read_csv(celltype, header=0, index_col=0)\n",
    "df_celltype.index = adata_ref.obs.index\n",
    "adata_ref.obs['Subset'] = df_celltype\n",
    "\n",
    "# Get 'Method'\n",
    "adata_ref.obs['Method'] = '3GEX'\n",
    "\n",
    "# Get 'Sample'\n",
    "adata_ref.obs['Sample'] = adata_ref.obs_names\n",
    "adata_ref.obs['Sample'] = adata_ref.obs['Sample'].apply(lambda x: x[0:4])"
   ]
  },
  {
   "cell_type": "code",
   "execution_count": null,
   "id": "f0a1359b",
   "metadata": {},
   "outputs": [],
   "source": [
    "from cell2location.utils.filtering import filter_genes\n",
    "selected = filter_genes(adata_ref, cell_count_cutoff=5, cell_percentage_cutoff2=0.03, nonz_mean_cutoff=1.12)\n",
    "# 5, 0.03, 1.12\n",
    "\n",
    "# In our case, a few genes are cut\n",
    "adata_ref = adata_ref[:, selected].copy()"
   ]
  },
  {
   "cell_type": "code",
   "execution_count": null,
   "id": "eafa7621",
   "metadata": {},
   "outputs": [],
   "source": [
    "scvi.data.setup_anndata(adata=adata_ref,\n",
    "                        # 10X reaction / sample / batch\n",
    "                        batch_key='Sample',\n",
    "                        # cell type, covariate used for constructing signatures\n",
    "                        labels_key='Subset',\n",
    "                        # multiplicative technical effects (platform, 3' vs 5', donor effect)\n",
    "                        categorical_covariate_keys=['Method']\n",
    "                       )\n",
    "scvi.data.view_anndata_setup(adata_ref)"
   ]
  },
  {
   "cell_type": "code",
   "execution_count": null,
   "id": "cffff289",
   "metadata": {},
   "outputs": [],
   "source": [
    "from cell2location.models import RegressionModel\n",
    "mod = RegressionModel(adata_ref)\n",
    "\n",
    "# Use all data for training (validation not implemented yet, train_size=1)\n",
    "mod.train(max_epochs=250, batch_size=2500, train_size=1, lr=0.002, use_gpu=True)\n",
    "\n",
    "# plot ELBO loss history during training, removing first 20 epochs from the plot\n",
    "mod.plot_history(20)"
   ]
  },
  {
   "cell_type": "code",
   "execution_count": null,
   "id": "9d5677c6",
   "metadata": {},
   "outputs": [],
   "source": [
    "# In this section, we export the estimated cell abundance (summary of the posterior distribution).\n",
    "adata_ref = mod.export_posterior(\n",
    "    adata_ref, sample_kwargs={'num_samples': 1000, 'batch_size': 2500, 'use_gpu': True}\n",
    ")\n",
    "\n",
    "# Results saving folder\n",
    "ref_run_name = f'./results/analysis/reference_signatures'\n",
    "\n",
    "# Save model\n",
    "mod.save(f\"{ref_run_name}\", overwrite=True)\n",
    "\n",
    "adata_file = f\"{ref_run_name}/sc.h5ad\"\n",
    "adata_ref.write(adata_file)\n",
    "adata_file"
   ]
  },
  {
   "cell_type": "code",
   "execution_count": null,
   "id": "8d2a49ba",
   "metadata": {},
   "outputs": [],
   "source": [
    "# First plot: Reconstruction accuracy to assess if there are any issues with inference\n",
    "# Second plot: When this plot is very different from a diagonal plot (e.g. very low values on Y-axis, density everywhere) it indicates problems with signature estimation.\n",
    "mod.plot_QC()"
   ]
  },
  {
   "cell_type": "code",
   "execution_count": null,
   "id": "7d255fd2",
   "metadata": {},
   "outputs": [],
   "source": [
    "# Export estimated expression in each cluster\n",
    "if 'means_per_cluster_mu_fg' in adata_ref.varm.keys():\n",
    "    inf_aver = adata_ref.varm['means_per_cluster_mu_fg'][[f'means_per_cluster_mu_fg_{i}'\n",
    "                                    for i in adata_ref.uns['mod']['factor_names']]].copy()\n",
    "else:\n",
    "    inf_aver = adata_ref.var[[f'means_per_cluster_mu_fg_{i}'\n",
    "                                    for i in adata_ref.uns['mod']['factor_names']]].copy()\n",
    "inf_aver.columns = adata_ref.uns['mod']['factor_names']\n",
    "inf_aver.iloc[0:5, 0:5]\n",
    "\n",
    "# Note that the column names are cell types, the row names are gene names, in the original code\n",
    "# the authors use ENSEMBL as names instead of raw gene names"
   ]
  },
  {
   "cell_type": "code",
   "execution_count": null,
   "id": "3f87f0a0",
   "metadata": {},
   "outputs": [],
   "source": [
    "adata_vis = sc.read_csv(sp_data)\n",
    "adata_vis.obs['sample'] = 'pseudo_st' # Since it is manually generated"
   ]
  },
  {
   "cell_type": "code",
   "execution_count": null,
   "id": "a11fe4b5",
   "metadata": {},
   "outputs": [],
   "source": [
    "intersect = np.intersect1d(adata_vis.var_names, inf_aver.index)\n",
    "adata_vis = adata_vis[:, intersect].copy()\n",
    "inf_aver = inf_aver.loc[intersect, :].copy()"
   ]
  },
  {
   "cell_type": "code",
   "execution_count": null,
   "id": "1a22bc48",
   "metadata": {},
   "outputs": [],
   "source": [
    "scvi.data.setup_anndata(adata=adata_vis, batch_key=\"sample\")\n",
    "scvi.data.view_anndata_setup(adata_vis)"
   ]
  },
  {
   "cell_type": "code",
   "execution_count": null,
   "id": "9b791c04",
   "metadata": {},
   "outputs": [],
   "source": [
    "gc.collect()\n",
    "mod = cell2location.models.Cell2location(\n",
    "    adata_vis, cell_state_df=inf_aver,\n",
    "    # the expected average cell abundance: tissue-dependent\n",
    "    # hyper-prior which can be estimated from paired histology:\n",
    "    N_cells_per_location=6,\n",
    "    # hyperparameter controlling normalisation of\n",
    "    # within-experiment variation in RNA detection (using default here):\n",
    "    detection_alpha=200\n",
    ")\n",
    "\n",
    "mod.train(max_epochs=20000,\n",
    "          # train using full data (batch_size=None)\n",
    "          batch_size=None,\n",
    "          # use all data points in training because\n",
    "          # we need to estimate cell abundance at all locations\n",
    "          train_size=1,\n",
    "          use_gpu=True)\n",
    "\n",
    "# plot ELBO loss history during training, removing first 100 epochs from the plot\n",
    "mod.plot_history(1000)\n",
    "plt.legend(labels=['full data training']);"
   ]
  },
  {
   "cell_type": "code",
   "execution_count": null,
   "id": "d3721d64",
   "metadata": {},
   "outputs": [],
   "source": [
    "# In this section, we export the estimated cell abundance (summary of the posterior distribution).\n",
    "adata_vis = mod.export_posterior(\n",
    "    adata_vis, sample_kwargs={'num_samples': 1000, 'batch_size': mod.adata.n_obs, 'use_gpu': True}\n",
    ")"
   ]
  },
  {
   "cell_type": "code",
   "execution_count": null,
   "id": "860444c2",
   "metadata": {},
   "outputs": [],
   "source": [
    "# Save model\n",
    "run_name = f'./results/analysis/cell2location_map'\n",
    "\n",
    "mod.save(run_name, overwrite=True)\n",
    "end_time = time.time()"
   ]
  },
  {
   "cell_type": "code",
   "execution_count": null,
   "id": "994a2f5f",
   "metadata": {},
   "outputs": [],
   "source": [
    "# Save anndata object with results\n",
    "adata_file = f\"{run_name}/sp.h5ad\"\n",
    "adata_vis.write(adata_file)\n",
    "adata_file"
   ]
  },
  {
   "cell_type": "code",
   "execution_count": null,
   "id": "1553afdc",
   "metadata": {},
   "outputs": [],
   "source": [
    "# Examine reconstruction accuracy to assess if there are any issues with mapping\n",
    "# the plot should be roughly diagonal, strong deviations will signal problems\n",
    "mod.plot_QC()"
   ]
  },
  {
   "cell_type": "code",
   "execution_count": null,
   "id": "640e282d",
   "metadata": {},
   "outputs": [],
   "source": [
    "# add 5% quantile, representing confident cell abundance, 'at least this amount is present',\n",
    "# to adata.obs with nice names for plotting\n",
    "adata_vis.obs[adata_vis.uns['mod']['factor_names']] = adata_vis.obsm['q05_cell_abundance_w_sf']\n",
    "result1 = adata_vis.obsm['q05_cell_abundance_w_sf']\n",
    "result2 = adata_vis.obsm['q95_cell_abundance_w_sf']\n",
    "result3 = adata_vis.obsm['means_cell_abundance_w_sf']\n",
    "# result_mean = result3.to_csv('mean_gene_expressionhalfx.csv')\n",
    "# result2.to_csv('95_gene_expressionhalfx.csv')\n",
    "# result1.to_csv('05_gene_expressionhalfx.csv')"
   ]
  },
  {
   "cell_type": "code",
   "execution_count": null,
   "id": "262f5c07",
   "metadata": {},
   "outputs": [],
   "source": [
    "sum_result_3 = result3.sum(axis=1)\n",
    "result3_percent = result3.div(result3.assign(total=sum_result_3)['total'], axis='index')\n",
    "result_name = os.path.join(parent_path, \"seqFISH_10000_Result\", \"Cell2location.csv\")\n",
    "result3_percent.to_csv(result_name)"
   ]
  },
  {
   "cell_type": "code",
   "execution_count": null,
   "id": "5457478d",
   "metadata": {},
   "outputs": [],
   "source": [
    "sum_result_2 = result2.sum(axis=1)\n",
    "result2_percent = result2.div(result2.assign(total=sum_result_2)['total'], axis='index')\n",
    "result2_percent.to_csv('q95_gene_expression_test_SeqFISH_10000.csv')"
   ]
  },
  {
   "cell_type": "code",
   "execution_count": null,
   "id": "fe0d9d43",
   "metadata": {},
   "outputs": [],
   "source": [
    "sum_result_1 = result1.sum(axis=1)\n",
    "result1_percent = result1.div(result1.assign(total=sum_result_1)['total'], axis='index')\n",
    "result1_percent.to_csv('q05_gene_expression_test_SeqFISH_10000.csv')"
   ]
  },
  {
   "cell_type": "code",
   "execution_count": null,
   "id": "8320a3e8",
   "metadata": {},
   "outputs": [],
   "source": [
    "print(\"Total time comsuption: seconds\")\n",
    "print(end_time - start_time)"
   ]
  },
  {
   "cell_type": "code",
   "execution_count": null,
   "id": "e2a86907",
   "metadata": {},
   "outputs": [],
   "source": [
    "# stdata = pd.read_csv('stdata_MERFISH_20.csv', header=0, index_col=0)\n",
    "# scdata = pd.read_csv('cellcount_MERFISH_20.csv', header=0, index_col=0)\n",
    "# print(stdata.shape)\n",
    "# print(scdata.shape)"
   ]
  }
 ],
 "metadata": {
  "kernelspec": {
   "display_name": "cell2loc_env",
   "language": "python",
   "name": "cell2loc_env"
  },
  "language_info": {
   "codemirror_mode": {
    "name": "ipython",
    "version": 3
   },
   "file_extension": ".py",
   "mimetype": "text/x-python",
   "name": "python",
   "nbconvert_exporter": "python",
   "pygments_lexer": "ipython3",
   "version": "3.11.5"
  }
 },
 "nbformat": 4,
 "nbformat_minor": 5
}
