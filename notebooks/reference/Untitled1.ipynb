{
 "cells": [
  {
   "cell_type": "code",
   "execution_count": 1,
   "id": "d73ab50a-2cba-4808-b7be-a23087966277",
   "metadata": {
    "execution": {
     "iopub.execute_input": "2024-05-31T07:46:21.825018Z",
     "iopub.status.busy": "2024-05-31T07:46:21.824533Z",
     "iopub.status.idle": "2024-05-31T07:46:21.951038Z",
     "shell.execute_reply": "2024-05-31T07:46:21.950577Z",
     "shell.execute_reply.started": "2024-05-31T07:46:21.825001Z"
    }
   },
   "outputs": [
    {
     "name": "stdout",
     "output_type": "stream",
     "text": [
      "env: PYTHONNOUSERSITE=literallyanyletters\n",
      "literallyanyletters\n"
     ]
    }
   ],
   "source": [
    "# Set the environment variable\n",
    "%env PYTHONNOUSERSITE=literallyanyletters\n",
    "\n",
    "# Verify the environment variable\n",
    "!echo $PYTHONNOUSERSITE\n"
   ]
  }
 ],
 "metadata": {
  "kernelspec": {
   "display_name": "cell2loc_env2",
   "language": "python",
   "name": "cell2loc_env2"
  },
  "language_info": {
   "codemirror_mode": {
    "name": "ipython",
    "version": 3
   },
   "file_extension": ".py",
   "mimetype": "text/x-python",
   "name": "python",
   "nbconvert_exporter": "python",
   "pygments_lexer": "ipython3",
   "version": "3.11.5"
  }
 },
 "nbformat": 4,
 "nbformat_minor": 5
}
